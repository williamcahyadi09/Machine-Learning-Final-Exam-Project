{
 "cells": [
  {
   "cell_type": "markdown",
   "metadata": {},
   "source": [
    "# Nama : William Cahyadi\n",
    "# NIM    : 2201730135"
   ]
  },
  {
   "cell_type": "code",
   "execution_count": 1,
   "metadata": {},
   "outputs": [],
   "source": [
    "import pandas as pd\n",
    "import numpy as np\n",
    "import re\n",
    "\n",
    "import warnings\n",
    "warnings.filterwarnings(\"ignore\")\n",
    "\n",
    "\n",
    "data = pd.read_csv('dataset.csv')"
   ]
  },
  {
   "cell_type": "code",
   "execution_count": 2,
   "metadata": {},
   "outputs": [
    {
     "data": {
      "text/plain": [
       "Index(['id', 'host_id', 'host_name', 'host_response_time',\n",
       "       'host_response_rate', 'host_acceptance_rate', 'host_neighbourhood',\n",
       "       'host_listings_count', 'host_total_listings_count', 'neighbourhood',\n",
       "       'neighbourhood_cleansed', 'property_type', 'room_type', 'accommodates',\n",
       "       'bathrooms', 'bedrooms', 'beds', 'price', 'guests_included',\n",
       "       'extra_people', 'minimum_nights', 'maximum_nights',\n",
       "       'minimum_minimum_nights', 'maximum_minimum_nights',\n",
       "       'minimum_maximum_nights', 'maximum_maximum_nights', 'number_of_reviews',\n",
       "       'number_of_reviews_ltm', 'review_scores_rating', 'reviews_per_month',\n",
       "       'Unnamed: 30', 'Unnamed: 31', 'Unnamed: 32', 'Unnamed: 33',\n",
       "       'Unnamed: 34', 'Unnamed: 35', 'Unnamed: 36', 'Unnamed: 37',\n",
       "       'Unnamed: 38', 'Unnamed: 39', 'Unnamed: 40', 'Unnamed: 41',\n",
       "       'Unnamed: 42', 'Unnamed: 43', 'Unnamed: 44', 'Unnamed: 45',\n",
       "       'Unnamed: 46', 'Unnamed: 47', 'Unnamed: 48', 'Unnamed: 49',\n",
       "       'Unnamed: 50', 'Unnamed: 51', 'Unnamed: 52', 'Unnamed: 53',\n",
       "       'Unnamed: 54', 'Unnamed: 55', 'Unnamed: 56', 'Unnamed: 57',\n",
       "       'Unnamed: 58', 'Unnamed: 59', 'Unnamed: 60', 'Unnamed: 61',\n",
       "       'Unnamed: 62', 'Unnamed: 63', 'Unnamed: 64', 'Unnamed: 65',\n",
       "       'Unnamed: 66', 'Unnamed: 67', 'Unnamed: 68', 'Unnamed: 69',\n",
       "       'Unnamed: 70', 'Unnamed: 71', 'Unnamed: 72', 'Unnamed: 73',\n",
       "       'Unnamed: 74', 'Unnamed: 75', 'Unnamed: 76', 'Unnamed: 77',\n",
       "       'Unnamed: 78', 'Unnamed: 79', 'Unnamed: 80', 'Unnamed: 81',\n",
       "       'Unnamed: 82', 'Unnamed: 83', 'Unnamed: 84', 'Unnamed: 85',\n",
       "       'Unnamed: 86', 'Unnamed: 87', 'Unnamed: 88', 'Unnamed: 89',\n",
       "       'Unnamed: 90'],\n",
       "      dtype='object')"
      ]
     },
     "execution_count": 2,
     "metadata": {},
     "output_type": "execute_result"
    }
   ],
   "source": [
    "data.columns"
   ]
  },
  {
   "cell_type": "code",
   "execution_count": 3,
   "metadata": {},
   "outputs": [],
   "source": [
    "# hilangkan column yang tidak memiliki nama\n",
    "data.drop(data.columns[30:91],axis=1,inplace = True)"
   ]
  },
  {
   "cell_type": "code",
   "execution_count": 4,
   "metadata": {},
   "outputs": [
    {
     "data": {
      "text/html": [
       "<div>\n",
       "<style scoped>\n",
       "    .dataframe tbody tr th:only-of-type {\n",
       "        vertical-align: middle;\n",
       "    }\n",
       "\n",
       "    .dataframe tbody tr th {\n",
       "        vertical-align: top;\n",
       "    }\n",
       "\n",
       "    .dataframe thead th {\n",
       "        text-align: right;\n",
       "    }\n",
       "</style>\n",
       "<table border=\"1\" class=\"dataframe\">\n",
       "  <thead>\n",
       "    <tr style=\"text-align: right;\">\n",
       "      <th></th>\n",
       "      <th>id</th>\n",
       "      <th>host_id</th>\n",
       "      <th>host_name</th>\n",
       "      <th>host_response_time</th>\n",
       "      <th>host_response_rate</th>\n",
       "      <th>host_acceptance_rate</th>\n",
       "      <th>host_neighbourhood</th>\n",
       "      <th>host_listings_count</th>\n",
       "      <th>host_total_listings_count</th>\n",
       "      <th>neighbourhood</th>\n",
       "      <th>...</th>\n",
       "      <th>minimum_nights</th>\n",
       "      <th>maximum_nights</th>\n",
       "      <th>minimum_minimum_nights</th>\n",
       "      <th>maximum_minimum_nights</th>\n",
       "      <th>minimum_maximum_nights</th>\n",
       "      <th>maximum_maximum_nights</th>\n",
       "      <th>number_of_reviews</th>\n",
       "      <th>number_of_reviews_ltm</th>\n",
       "      <th>review_scores_rating</th>\n",
       "      <th>reviews_per_month</th>\n",
       "    </tr>\n",
       "  </thead>\n",
       "  <tbody>\n",
       "    <tr>\n",
       "      <th>0</th>\n",
       "      <td>35303</td>\n",
       "      <td>151977</td>\n",
       "      <td>Miyuki</td>\n",
       "      <td>NaN</td>\n",
       "      <td>NaN</td>\n",
       "      <td>NaN</td>\n",
       "      <td>Shibuya District</td>\n",
       "      <td>3</td>\n",
       "      <td>3</td>\n",
       "      <td>Shibuya District</td>\n",
       "      <td>...</td>\n",
       "      <td>28</td>\n",
       "      <td>1125</td>\n",
       "      <td>28</td>\n",
       "      <td>28</td>\n",
       "      <td>1125</td>\n",
       "      <td>1125</td>\n",
       "      <td>18</td>\n",
       "      <td>0</td>\n",
       "      <td>94</td>\n",
       "      <td>0.18</td>\n",
       "    </tr>\n",
       "    <tr>\n",
       "      <th>1</th>\n",
       "      <td>197677</td>\n",
       "      <td>964081</td>\n",
       "      <td>Yoshimi &amp; Marek</td>\n",
       "      <td>within a few hours</td>\n",
       "      <td>100%</td>\n",
       "      <td>88%</td>\n",
       "      <td>Sumida District</td>\n",
       "      <td>1</td>\n",
       "      <td>1</td>\n",
       "      <td>Sumida District</td>\n",
       "      <td>...</td>\n",
       "      <td>3</td>\n",
       "      <td>365</td>\n",
       "      <td>3</td>\n",
       "      <td>3</td>\n",
       "      <td>365</td>\n",
       "      <td>365</td>\n",
       "      <td>165</td>\n",
       "      <td>11</td>\n",
       "      <td>95</td>\n",
       "      <td>1.57</td>\n",
       "    </tr>\n",
       "    <tr>\n",
       "      <th>2</th>\n",
       "      <td>289597</td>\n",
       "      <td>341577</td>\n",
       "      <td>Hide&amp;Kei</td>\n",
       "      <td>within a few hours</td>\n",
       "      <td>100%</td>\n",
       "      <td>82%</td>\n",
       "      <td>Nerima District</td>\n",
       "      <td>2</td>\n",
       "      <td>2</td>\n",
       "      <td>Nerima District</td>\n",
       "      <td>...</td>\n",
       "      <td>28</td>\n",
       "      <td>180</td>\n",
       "      <td>1</td>\n",
       "      <td>30</td>\n",
       "      <td>180</td>\n",
       "      <td>180</td>\n",
       "      <td>113</td>\n",
       "      <td>7</td>\n",
       "      <td>95</td>\n",
       "      <td>1.18</td>\n",
       "    </tr>\n",
       "    <tr>\n",
       "      <th>3</th>\n",
       "      <td>370759</td>\n",
       "      <td>1573631</td>\n",
       "      <td>Gilles,Mayumi,Taiki</td>\n",
       "      <td>within a day</td>\n",
       "      <td>100%</td>\n",
       "      <td>93%</td>\n",
       "      <td>Setagaya District</td>\n",
       "      <td>3</td>\n",
       "      <td>3</td>\n",
       "      <td>Setagaya District</td>\n",
       "      <td>...</td>\n",
       "      <td>28</td>\n",
       "      <td>720</td>\n",
       "      <td>28</td>\n",
       "      <td>28</td>\n",
       "      <td>720</td>\n",
       "      <td>720</td>\n",
       "      <td>103</td>\n",
       "      <td>5</td>\n",
       "      <td>95</td>\n",
       "      <td>1.39</td>\n",
       "    </tr>\n",
       "    <tr>\n",
       "      <th>4</th>\n",
       "      <td>700253</td>\n",
       "      <td>341577</td>\n",
       "      <td>Hide&amp;Kei</td>\n",
       "      <td>within a few hours</td>\n",
       "      <td>100%</td>\n",
       "      <td>82%</td>\n",
       "      <td>Nerima District</td>\n",
       "      <td>2</td>\n",
       "      <td>2</td>\n",
       "      <td>Nerima District</td>\n",
       "      <td>...</td>\n",
       "      <td>28</td>\n",
       "      <td>180</td>\n",
       "      <td>1</td>\n",
       "      <td>28</td>\n",
       "      <td>180</td>\n",
       "      <td>180</td>\n",
       "      <td>103</td>\n",
       "      <td>3</td>\n",
       "      <td>96</td>\n",
       "      <td>1.12</td>\n",
       "    </tr>\n",
       "    <tr>\n",
       "      <th>...</th>\n",
       "      <td>...</td>\n",
       "      <td>...</td>\n",
       "      <td>...</td>\n",
       "      <td>...</td>\n",
       "      <td>...</td>\n",
       "      <td>...</td>\n",
       "      <td>...</td>\n",
       "      <td>...</td>\n",
       "      <td>...</td>\n",
       "      <td>...</td>\n",
       "      <td>...</td>\n",
       "      <td>...</td>\n",
       "      <td>...</td>\n",
       "      <td>...</td>\n",
       "      <td>...</td>\n",
       "      <td>...</td>\n",
       "      <td>...</td>\n",
       "      <td>...</td>\n",
       "      <td>...</td>\n",
       "      <td>...</td>\n",
       "      <td>...</td>\n",
       "    </tr>\n",
       "    <tr>\n",
       "      <th>13044</th>\n",
       "      <td>43260549</td>\n",
       "      <td>191971770</td>\n",
       "      <td>Hostel</td>\n",
       "      <td>NaN</td>\n",
       "      <td>NaN</td>\n",
       "      <td>NaN</td>\n",
       "      <td>NaN</td>\n",
       "      <td>3</td>\n",
       "      <td>3</td>\n",
       "      <td>Chiyoda District</td>\n",
       "      <td>...</td>\n",
       "      <td>1</td>\n",
       "      <td>365</td>\n",
       "      <td>1</td>\n",
       "      <td>3</td>\n",
       "      <td>365</td>\n",
       "      <td>365</td>\n",
       "      <td>0</td>\n",
       "      <td>0</td>\n",
       "      <td>NaN</td>\n",
       "      <td>NaN</td>\n",
       "    </tr>\n",
       "    <tr>\n",
       "      <th>13045</th>\n",
       "      <td>43260684</td>\n",
       "      <td>191971770</td>\n",
       "      <td>Hostel</td>\n",
       "      <td>NaN</td>\n",
       "      <td>NaN</td>\n",
       "      <td>NaN</td>\n",
       "      <td>NaN</td>\n",
       "      <td>3</td>\n",
       "      <td>3</td>\n",
       "      <td>Chiyoda District</td>\n",
       "      <td>...</td>\n",
       "      <td>1</td>\n",
       "      <td>365</td>\n",
       "      <td>1</td>\n",
       "      <td>3</td>\n",
       "      <td>365</td>\n",
       "      <td>365</td>\n",
       "      <td>0</td>\n",
       "      <td>0</td>\n",
       "      <td>NaN</td>\n",
       "      <td>NaN</td>\n",
       "    </tr>\n",
       "    <tr>\n",
       "      <th>13046</th>\n",
       "      <td>43272924</td>\n",
       "      <td>335257890</td>\n",
       "      <td>Blue</td>\n",
       "      <td>within an hour</td>\n",
       "      <td>100%</td>\n",
       "      <td>100%</td>\n",
       "      <td>NaN</td>\n",
       "      <td>0</td>\n",
       "      <td>0</td>\n",
       "      <td>Shinjuku District</td>\n",
       "      <td>...</td>\n",
       "      <td>28</td>\n",
       "      <td>30</td>\n",
       "      <td>28</td>\n",
       "      <td>28</td>\n",
       "      <td>1125</td>\n",
       "      <td>1125</td>\n",
       "      <td>0</td>\n",
       "      <td>0</td>\n",
       "      <td>NaN</td>\n",
       "      <td>NaN</td>\n",
       "    </tr>\n",
       "    <tr>\n",
       "      <th>13047</th>\n",
       "      <td>43281694</td>\n",
       "      <td>333948576</td>\n",
       "      <td>Kido</td>\n",
       "      <td>NaN</td>\n",
       "      <td>NaN</td>\n",
       "      <td>NaN</td>\n",
       "      <td>NaN</td>\n",
       "      <td>0</td>\n",
       "      <td>0</td>\n",
       "      <td>Shibuya District</td>\n",
       "      <td>...</td>\n",
       "      <td>1</td>\n",
       "      <td>90</td>\n",
       "      <td>1</td>\n",
       "      <td>1</td>\n",
       "      <td>90</td>\n",
       "      <td>90</td>\n",
       "      <td>0</td>\n",
       "      <td>0</td>\n",
       "      <td>NaN</td>\n",
       "      <td>NaN</td>\n",
       "    </tr>\n",
       "    <tr>\n",
       "      <th>13048</th>\n",
       "      <td>43286916</td>\n",
       "      <td>341561924</td>\n",
       "      <td>Puchi</td>\n",
       "      <td>NaN</td>\n",
       "      <td>NaN</td>\n",
       "      <td>NaN</td>\n",
       "      <td>NaN</td>\n",
       "      <td>0</td>\n",
       "      <td>0</td>\n",
       "      <td>Shinjuku District</td>\n",
       "      <td>...</td>\n",
       "      <td>1</td>\n",
       "      <td>1125</td>\n",
       "      <td>1</td>\n",
       "      <td>1</td>\n",
       "      <td>1125</td>\n",
       "      <td>1125</td>\n",
       "      <td>0</td>\n",
       "      <td>0</td>\n",
       "      <td>NaN</td>\n",
       "      <td>NaN</td>\n",
       "    </tr>\n",
       "  </tbody>\n",
       "</table>\n",
       "<p>13049 rows × 30 columns</p>\n",
       "</div>"
      ],
      "text/plain": [
       "             id    host_id            host_name  host_response_time  \\\n",
       "0         35303     151977               Miyuki                 NaN   \n",
       "1        197677     964081      Yoshimi & Marek  within a few hours   \n",
       "2        289597     341577             Hide&Kei  within a few hours   \n",
       "3        370759    1573631  Gilles,Mayumi,Taiki        within a day   \n",
       "4        700253     341577             Hide&Kei  within a few hours   \n",
       "...         ...        ...                  ...                 ...   \n",
       "13044  43260549  191971770               Hostel                 NaN   \n",
       "13045  43260684  191971770               Hostel                 NaN   \n",
       "13046  43272924  335257890                 Blue      within an hour   \n",
       "13047  43281694  333948576                 Kido                 NaN   \n",
       "13048  43286916  341561924                Puchi                 NaN   \n",
       "\n",
       "      host_response_rate host_acceptance_rate host_neighbourhood  \\\n",
       "0                    NaN                  NaN   Shibuya District   \n",
       "1                   100%                  88%    Sumida District   \n",
       "2                   100%                  82%    Nerima District   \n",
       "3                   100%                  93%  Setagaya District   \n",
       "4                   100%                  82%    Nerima District   \n",
       "...                  ...                  ...                ...   \n",
       "13044                NaN                  NaN                NaN   \n",
       "13045                NaN                  NaN                NaN   \n",
       "13046               100%                 100%                NaN   \n",
       "13047                NaN                  NaN                NaN   \n",
       "13048                NaN                  NaN                NaN   \n",
       "\n",
       "      host_listings_count host_total_listings_count      neighbourhood  ...  \\\n",
       "0                       3                         3   Shibuya District  ...   \n",
       "1                       1                         1    Sumida District  ...   \n",
       "2                       2                         2    Nerima District  ...   \n",
       "3                       3                         3  Setagaya District  ...   \n",
       "4                       2                         2    Nerima District  ...   \n",
       "...                   ...                       ...                ...  ...   \n",
       "13044                   3                         3   Chiyoda District  ...   \n",
       "13045                   3                         3   Chiyoda District  ...   \n",
       "13046                   0                         0  Shinjuku District  ...   \n",
       "13047                   0                         0   Shibuya District  ...   \n",
       "13048                   0                         0  Shinjuku District  ...   \n",
       "\n",
       "      minimum_nights maximum_nights minimum_minimum_nights  \\\n",
       "0                 28           1125                     28   \n",
       "1                  3            365                      3   \n",
       "2                 28            180                      1   \n",
       "3                 28            720                     28   \n",
       "4                 28            180                      1   \n",
       "...              ...            ...                    ...   \n",
       "13044              1            365                      1   \n",
       "13045              1            365                      1   \n",
       "13046             28             30                     28   \n",
       "13047              1             90                      1   \n",
       "13048              1           1125                      1   \n",
       "\n",
       "      maximum_minimum_nights minimum_maximum_nights maximum_maximum_nights  \\\n",
       "0                         28                   1125                   1125   \n",
       "1                          3                    365                    365   \n",
       "2                         30                    180                    180   \n",
       "3                         28                    720                    720   \n",
       "4                         28                    180                    180   \n",
       "...                      ...                    ...                    ...   \n",
       "13044                      3                    365                    365   \n",
       "13045                      3                    365                    365   \n",
       "13046                     28                   1125                   1125   \n",
       "13047                      1                     90                     90   \n",
       "13048                      1                   1125                   1125   \n",
       "\n",
       "      number_of_reviews number_of_reviews_ltm review_scores_rating  \\\n",
       "0                    18                     0                   94   \n",
       "1                   165                    11                   95   \n",
       "2                   113                     7                   95   \n",
       "3                   103                     5                   95   \n",
       "4                   103                     3                   96   \n",
       "...                 ...                   ...                  ...   \n",
       "13044                 0                     0                  NaN   \n",
       "13045                 0                     0                  NaN   \n",
       "13046                 0                     0                  NaN   \n",
       "13047                 0                     0                  NaN   \n",
       "13048                 0                     0                  NaN   \n",
       "\n",
       "      reviews_per_month  \n",
       "0                  0.18  \n",
       "1                  1.57  \n",
       "2                  1.18  \n",
       "3                  1.39  \n",
       "4                  1.12  \n",
       "...                 ...  \n",
       "13044               NaN  \n",
       "13045               NaN  \n",
       "13046               NaN  \n",
       "13047               NaN  \n",
       "13048               NaN  \n",
       "\n",
       "[13049 rows x 30 columns]"
      ]
     },
     "execution_count": 4,
     "metadata": {},
     "output_type": "execute_result"
    }
   ],
   "source": [
    "data"
   ]
  },
  {
   "cell_type": "code",
   "execution_count": 5,
   "metadata": {},
   "outputs": [
    {
     "data": {
      "text/plain": [
       "id                              0\n",
       "host_id                       238\n",
       "host_name                      46\n",
       "host_response_time            850\n",
       "host_response_rate            803\n",
       "host_acceptance_rate          320\n",
       "host_neighbourhood           1815\n",
       "host_listings_count            53\n",
       "host_total_listings_count      21\n",
       "neighbourhood                1188\n",
       "neighbourhood_cleansed         30\n",
       "property_type                   1\n",
       "room_type                       4\n",
       "accommodates                    3\n",
       "bathrooms                       5\n",
       "bedrooms                       21\n",
       "beds                           34\n",
       "price                         202\n",
       "guests_included                52\n",
       "extra_people                   22\n",
       "minimum_nights                 29\n",
       "maximum_nights                 29\n",
       "minimum_minimum_nights         33\n",
       "maximum_minimum_nights          9\n",
       "minimum_maximum_nights         24\n",
       "maximum_maximum_nights         23\n",
       "number_of_reviews               0\n",
       "number_of_reviews_ltm           0\n",
       "review_scores_rating         1974\n",
       "reviews_per_month            1939\n",
       "dtype: int64"
      ]
     },
     "execution_count": 5,
     "metadata": {},
     "output_type": "execute_result"
    }
   ],
   "source": [
    "# lihat jumlah data yang kosong\n",
    "data.isnull().sum()"
   ]
  },
  {
   "cell_type": "code",
   "execution_count": 6,
   "metadata": {},
   "outputs": [
    {
     "data": {
      "text/plain": [
       "id                           8577\n",
       "host_id                      8577\n",
       "host_name                    8577\n",
       "host_response_time           8577\n",
       "host_response_rate           8577\n",
       "host_acceptance_rate         8577\n",
       "host_neighbourhood           8577\n",
       "host_listings_count          8577\n",
       "host_total_listings_count    8577\n",
       "neighbourhood                8577\n",
       "neighbourhood_cleansed       8577\n",
       "property_type                8577\n",
       "room_type                    8577\n",
       "accommodates                 8577\n",
       "bathrooms                    8577\n",
       "bedrooms                     8577\n",
       "beds                         8577\n",
       "price                        8577\n",
       "guests_included              8577\n",
       "extra_people                 8577\n",
       "minimum_nights               8577\n",
       "maximum_nights               8577\n",
       "minimum_minimum_nights       8577\n",
       "maximum_minimum_nights       8577\n",
       "minimum_maximum_nights       8577\n",
       "maximum_maximum_nights       8577\n",
       "number_of_reviews            8577\n",
       "number_of_reviews_ltm        8577\n",
       "review_scores_rating         8577\n",
       "reviews_per_month            8577\n",
       "dtype: int64"
      ]
     },
     "execution_count": 6,
     "metadata": {},
     "output_type": "execute_result"
    }
   ],
   "source": [
    "# drop row yang memiliki null - value (NaN)\n",
    "data.dropna(inplace = True)\n",
    "data = data.reset_index(drop = True)\n",
    "data.count()"
   ]
  },
  {
   "cell_type": "code",
   "execution_count": 7,
   "metadata": {},
   "outputs": [],
   "source": [
    "columns = data.columns.tolist()"
   ]
  },
  {
   "cell_type": "code",
   "execution_count": 8,
   "metadata": {},
   "outputs": [
    {
     "data": {
      "text/plain": [
       "['id',\n",
       " 'host_id',\n",
       " 'host_name',\n",
       " 'host_response_time',\n",
       " 'host_response_rate',\n",
       " 'host_acceptance_rate',\n",
       " 'host_neighbourhood',\n",
       " 'host_listings_count',\n",
       " 'host_total_listings_count',\n",
       " 'neighbourhood',\n",
       " 'neighbourhood_cleansed',\n",
       " 'property_type',\n",
       " 'room_type',\n",
       " 'accommodates',\n",
       " 'bathrooms',\n",
       " 'bedrooms',\n",
       " 'beds',\n",
       " 'price',\n",
       " 'guests_included',\n",
       " 'extra_people',\n",
       " 'minimum_nights',\n",
       " 'maximum_nights',\n",
       " 'minimum_minimum_nights',\n",
       " 'maximum_minimum_nights',\n",
       " 'minimum_maximum_nights',\n",
       " 'maximum_maximum_nights',\n",
       " 'number_of_reviews',\n",
       " 'number_of_reviews_ltm',\n",
       " 'review_scores_rating',\n",
       " 'reviews_per_month']"
      ]
     },
     "execution_count": 8,
     "metadata": {},
     "output_type": "execute_result"
    }
   ],
   "source": [
    "columns"
   ]
  },
  {
   "cell_type": "code",
   "execution_count": 9,
   "metadata": {},
   "outputs": [],
   "source": [
    "features = [\n",
    " 'host_response_time',\n",
    " 'host_response_rate',\n",
    " 'neighbourhood',\n",
    " 'property_type',\n",
    " 'accommodates',\n",
    " 'bathrooms',\n",
    " 'bedrooms',\n",
    " 'beds',\n",
    " 'extra_people',\n",
    " 'minimum_nights',\n",
    " 'maximum_nights',\n",
    " 'number_of_reviews'\n",
    "]"
   ]
  },
  {
   "cell_type": "code",
   "execution_count": 10,
   "metadata": {},
   "outputs": [
    {
     "data": {
      "text/plain": [
       "array(['within a few hours', 'within a day', 'within an hour',\n",
       "       'a few days or more', 'Sumida, Tokyo, Japan', 'Tokyo, Japan',\n",
       "       'Shinjuku, Tokyo, Japan', 'Nakano, Tokyo, Japan',\n",
       "       'Chuo City, Tokyo, Japan', 'Zhengzhou, Henan, China', 'JP',\n",
       "       'tokyo', 'Shibuya, Tokyo, Japan', 'Tokyo, Tokyo, Japan', 'Japan'],\n",
       "      dtype=object)"
      ]
     },
     "execution_count": 10,
     "metadata": {},
     "output_type": "execute_result"
    }
   ],
   "source": [
    "data['host_response_time'].unique()"
   ]
  },
  {
   "cell_type": "code",
   "execution_count": 11,
   "metadata": {},
   "outputs": [
    {
     "data": {
      "text/plain": [
       "array(['$11,048.00', '$4,171.00', '$6,952.00', '$3,957.00', '$8,045.00',\n",
       "       '$5,149.00', '$3,530.00', '$10,726.00', '$31,980.00', '$5,990.00',\n",
       "       '$13,049.00', '$28,023.00', '$25,028.00', '$3,209.00', '$2,145.00',\n",
       "       '$13,477.00', '$6,007.00', '$3,969.00', '$3,325.00', '$3,637.00',\n",
       "       '$12,871.00', '$12,979.00', '$8,581.00', '$3,316.00', '$14,974.00',\n",
       "       '$69,522.00', '$80,004.00', '$10,910.00', '$16,471.00',\n",
       "       '$26,953.00', '$2,460.00', '$9,439.00', '$5,470.00', '$18,985.00',\n",
       "       '$25,991.00', '$2,467.00', '$10,512.00', '$5,455.00', '$5,134.00',\n",
       "       '$8,022.00', '$6,845.00', '$31,018.00', '$5,348.00', '$7,701.00',\n",
       "       '$13,193.00', '$8,450.00', '$10,404.00', '$11,979.00',\n",
       "       '$17,006.00', '$15,017.00', '$3,850.00', '$9,519.00', '$16,044.00',\n",
       "       '$9,947.00', '$49,984.00', '$7,508.00', '$5,776.00', '$4,385.00',\n",
       "       '$6,543.00', '$4,505.00', '$25,743.00', '$4,827.00', '$10,190.00',\n",
       "       '$3,218.00', '$3,861.00', '$34,868.00', '$33,680.00', '$9,626.00',\n",
       "       '$9,975.00', '$6,524.00', '$9,010.00', '$15,982.00', '$16,196.00',\n",
       "       '$2,353.00', '$4,813.00', '$6,972.00', '$2,896.00', '$20,001.00',\n",
       "       '$5,241.00', '$5,041.00', '$2,032.00', '$14,011.00', '$16,518.00',\n",
       "       '$2,994.00', '$24,992.00', '$9,546.00', '$7,723.00', '$17,969.00',\n",
       "       '$23,958.00', '$30,033.00', '$6,865.00', '$34,967.00', '$4,064.00',\n",
       "       '$6,757.00', '$1,497.00', '$10,619.00', '$31,964.00', '$16,947.00',\n",
       "       '$7,487.00', '$5,027.00', '$13,944.00', '$4,492.00', '$14,051.00',\n",
       "       '$7,808.00', '$2,995.00', '$4,290.00', '$6,221.00', '$12,013.00',\n",
       "       '$23,597.00', '$4,706.00', '$9,840.00', '$40,008.00', '$4,278.00',\n",
       "       '$15,830.00', '$9,224.00', '$7,830.00', '$23,531.00', '$19,951.00',\n",
       "       '$128,028.00', '$16,151.00', '$19,307.00', '$12,835.00',\n",
       "       '$12,550.00', '$12,514.00', '$14,695.00', '$16,089.00',\n",
       "       '$27,995.00', '$24,026.00', '$15,553.00', '$24,670.00',\n",
       "       '$18,771.00', '$11,799.00', '$24,600.00', '$16,411.00',\n",
       "       '$4,183.00', '$34,753.00', '$12,764.00', '$25,957.00',\n",
       "       '$17,055.00', '$26,923.00', '$13,798.00', '$11,906.00',\n",
       "       '$6,114.00', '$18,020.00', '$8,984.00', '$16,733.00', '$1,390.00',\n",
       "       '$37,970.00', '$5,899.00', '$13,515.00', '$2,789.00', '$8,236.00',\n",
       "       '$11,124.00', '$10,083.00', '$21,989.00', '$9,198.00',\n",
       "       '$200,011.00', '$6,844.00', '$17,113.00', '$28,960.00',\n",
       "       '$35,503.00', '$19,038.00', '$6,417.00', '$36,469.00', '$4,599.00',\n",
       "       '$4,920.00', '$28,985.00', '$39,043.00', '$6,204.00', '$22,354.00',\n",
       "       '$13,904.00', '$18,183.00', '$32,087.00', '$26,739.00',\n",
       "       '$16,792.00', '$10,482.00', '$7,294.00', '$99,967.00',\n",
       "       '$11,477.00', '$3,432.00', '$7,273.00', '$22,033.00', '$37,005.00',\n",
       "       '$7,186.00', '$32,071.00', '$18,825.00', '$40,002.00', '$3,003.00',\n",
       "       '$45,029.00', '$2,682.00', '$9,733.00', '$15,937.00', '$8,557.00',\n",
       "       '$12,120.00', '$1,394.00', '$149,954.00', '$11,551.00',\n",
       "       '$15,767.00', '$12,228.00', '$26,632.00', '$8,771.00', '$4,934.00',\n",
       "       '$17,484.00', '$9,653.00', '$3,540.00', '$36,040.00', '$49,949.00',\n",
       "       '$20,964.00', '$9,761.00', '$20,809.00', '$55,025.00', '$2,246.00',\n",
       "       '$749,969.00', '$15,231.00', '$300,009.00', '$180,009.00',\n",
       "       '$6,436.00', '$17,913.00', '$8,688.00', '$9,868.00', '$10,941.00',\n",
       "       '$5,685.00', '$5,363.00', '$27,702.00', '$21,023.00', '$3,754.00',\n",
       "       '$5,883.00', '$45,050.00', '$7,937.00', '$5,774.00', '$9,117.00',\n",
       "       '$7,616.00', '$6,328.00', '$8,474.00', '$11,872.00', '$6,650.00',\n",
       "       '$4,612.00', '$8,259.00', '$7,079.00', '$22,954.00', '$12,942.00',\n",
       "       '$14,480.00', '$1,925.00',\n",
       "       '{TV,Wifi,\"Air conditioning\",Heating,\"Family/kid friendly\",Washer,\"Smoke detector\",Essentials,Shampoo,\"Lock on bedroom door\",\"24-hour check-in\",Hangers,\"Hair dryer\",Iron,\"Laptop friendly workspace\",\"Self check-in\",Lockbox,Bathtub,\"Hot water\",Microwave,Refrigerator,\"Dishes and silverware\",\"Fixed grab bars for shower\"}',\n",
       "       '$29,926.00', '$5,792.00',\n",
       "       '{TV,Internet,Wifi,\"Air conditioning\",Heating,\"Family/kid friendly\",Washer,\"Smoke detector\",\"Safety card\",Essentials,Shampoo,\"Lock on bedroom door\",\"24-hour check-in\",Hangers,\"Hair dryer\",Iron,\"Laptop friendly workspace\",\"Self check-in\",Lockbox,\"Private entrance\",Bathtub,\"Hot water\",Microwave,Refrigerator,\"Dishes and silverware\",\"Fixed grab bars for shower\"}',\n",
       "       '{TV,Wifi,\"Air conditioning\",Heating,\"Family/kid friendly\",Washer,\"Smoke detector\",\"Safety card\",Essentials,Shampoo,\"Lock on bedroom door\",Hangers,\"Hair dryer\",Iron,\"Laptop friendly workspace\",\"Self check-in\",Lockbox,Bathtub,\"Hot water\",Microwave,Refrigerator,\"Dishes and silverware\",\"Fixed grab bars for shower\"}',\n",
       "       '$14,802.00', '$16,304.00', '$29,948.00', '$74,975.00',\n",
       "       '$48,024.00', '$13,300.00', '$6,310.00', '$25,023.00',\n",
       "       '$900,027.00', '$18,290.00', '$57,971.00', '$5,578.00',\n",
       "       '$1,177.00', '$1,180.00', '$14,546.00', '$15,509.00', '$95,999.00',\n",
       "       '$48,053.00', '$22,525.00', '$14,332.00', '$12,300.00',\n",
       "       '$7,594.00', '$42,904.00', '$26,815.00', '$17,327.00',\n",
       "       '$27,030.00', '$11,691.00', '$12,442.00', '$1,502.00', '$8,152.00',\n",
       "       '$22,847.00', '$24,488.00', '$11,017.00', '$89,951.00',\n",
       "       '$6,631.00', '$3,423.00', '$13,086.00', '$11,765.00',\n",
       "       '$149,951.00', '$2,888.00', '$2,781.00', '$33,036.00', '$3,102.00',\n",
       "       '$22,991.00', '$22,996.00', '$15,295.00', '$160,892.00',\n",
       "       '$10,833.00', '$35,831.00', '$40,759.00', '$8,366.00', '$8,129.00',\n",
       "       '$59,959.00', '$60,003.00', '$24,777.00', '$14,971.00',\n",
       "       '{TV,Internet,Wifi,\"Air conditioning\",Kitchen,Elevator,Heating,Washer,\"Smoke detector\",\"Fire extinguisher\",Essentials,Shampoo,Hangers,\"Hair dryer\",Iron,\"Laptop friendly workspace\",\"Private entrance\",Bathtub,\"Room-darkening shades\",\"Hot water\",\"Bed linens\",Microwave,Refrigerator,\"Dishes and silverware\",\"Cooking basics\",Stove}',\n",
       "       '{TV,Internet,Wifi,\"Air conditioning\",\"Wheelchair accessible\",Kitchen,\"Paid parking off premises\",\"Pets allowed\",Elevator,\"Hot tub\",\"Buzzer/wireless intercom\",Heating,Washer,\"Smoke detector\",\"Carbon monoxide detector\",\"Fire extinguisher\",Essentials,Shampoo,Hangers,\"Hair dryer\",Iron,\"Laptop friendly workspace\",\"Self check-in\",Lockbox,\"Children’s books and toys\",\"Hot water\",Microwave,\"Coffee maker\",Refrigerator,\"Dishes and silverware\",\"Cooking basics\",\"Long term stays allowed\",\"Paid parking on premises\"}',\n",
       "       '$3,647.00', '$14,760.00', '$10,803.00', '$10,297.00', '$9,412.00',\n",
       "       '$20,322.00', '$1,818.00', '$30,998.00',\n",
       "       '{Wifi,\"Air conditioning\",Kitchen,Washer,\"Smoke detector\",\"Carbon monoxide detector\",Essentials,Shampoo,Hangers,\"Hair dryer\",\"Laptop friendly workspace\",\"Private living room\",\"Hot water\",Microwave,Refrigerator,\"Dishes and silverware\",\"Long term stays allowed\"}',\n",
       "       '$42,046.00', '$13,622.00', '$22,461.00', '$21,774.00', '$0.00',\n",
       "       '$18,878.00',\n",
       "       '{Wifi,\"Air conditioning\",\"Paid parking off premises\",\"Smoke detector\",\"Carbon monoxide detector\",Essentials,Shampoo,Hangers,\"Hair dryer\",\"Laptop friendly workspace\",\"Hot water\",Microwave,Refrigerator,\"Dishes and silverware\",\"Long term stays allowed\",\"Host greets you\"}',\n",
       "       '$34,975.00', '$139,976.00', '$12,728.00', '$11,658.00',\n",
       "       '$2,038.00', '$900,047.00', '$12,657.00', '$12,621.00',\n",
       "       '$2,574.00', '$17,376.00', '$16,625.00', '$8,795.00', '$5,256.00',\n",
       "       '$100,005.00', '$38,828.00', '$20,272.00', '$52,451.00',\n",
       "       '$16,840.00', '$36,576.00',\n",
       "       '{TV,Wifi,\"Air conditioning\",\"Wheelchair accessible\",Kitchen,\"Paid parking off premises\",Elevator,Heating,\"Suitable for events\",\"Smoke detector\",\"Carbon monoxide detector\",\"First aid kit\",\"Fire extinguisher\",Essentials,Shampoo,\"Lock on bedroom door\",Hangers,\"Hair dryer\",Iron,\"Laptop friendly workspace\",\"Private living room\",\"Hot water\",\"Bed linens\",\"Extra pillows and blankets\",\"Ethernet connection\",\"Pocket wifi\",Microwave,Refrigerator,\"Dishes and silverware\",\"Cooking basics\",Stove,\"Single level home\",\"Patio or balcony\",\"Luggage dropoff allowed\",\"Long term stays allowed\",Other}',\n",
       "       '$148,029.00', '$38,505.00', '$14,266.00', '$19,522.00',\n",
       "       '$13,263.00', '$29,841.00', '$7,915.00', '$1,283.00', '$34,002.00',\n",
       "       '$17,805.00', '$7,380.00', '$3,111.00', '$14,867.00', '$30,784.00',\n",
       "       '$13,837.00', '$1,287.00', '$1,716.00', '$11,262.00', '$17,220.00',\n",
       "       '$19,252.00', '$9,332.00', '$17,162.00', '$5,562.00', '$7,401.00',\n",
       "       '$7,699.00', '$19,629.00', '$12,086.00', '$7,166.00', '$46,015.00',\n",
       "       '$20,429.00', '$20,380.00', '$23,812.00', '$27,244.00',\n",
       "       '$24,814.00', '$46,954.00', '$57,008.00', '$27,167.00',\n",
       "       '$3,529.00',\n",
       "       '{TV,Wifi,\"Air conditioning\",Kitchen,Heating,Washer,\"Smoke detector\",\"Carbon monoxide detector\",\"Safety card\",\"Fire extinguisher\",Essentials,Shampoo,Hangers,\"Hair dryer\",\"Laptop friendly workspace\",\"Private entrance\",\"Hot water\",\"Bed linens\",\"Pocket wifi\",Microwave,Refrigerator,\"Dishes and silverware\",Stove,\"Long term stays allowed\",\"Wide hallways\"}',\n",
       "       '{TV,Wifi,\"Air conditioning\",Kitchen,Heating,Washer,\"Smoke detector\",\"Carbon monoxide detector\",\"Safety card\",\"Fire extinguisher\",Essentials,Shampoo,Hangers,\"Hair dryer\",\"Laptop friendly workspace\",\"Private entrance\",\"Hot water\",\"Bed linens\",\"Extra pillows and blankets\",\"Pocket wifi\",Microwave,Refrigerator,\"Dishes and silverware\",Stove,\"Long term stays allowed\",\"Wide hallways\"}',\n",
       "       '$27,888.00', '$21,392.00', '$8,877.00', '$17,862.00',\n",
       "       '{TV,Wifi,\"Air conditioning\",Kitchen,Elevator,Heating,Washer,\"Smoke detector\",\"Carbon monoxide detector\",\"First aid kit\",\"Safety card\",\"Fire extinguisher\",Essentials,Shampoo,\"Lock on bedroom door\",Hangers,\"Hair dryer\",Iron,\"Laptop friendly workspace\",Microwave,Refrigerator,\"Dishes and silverware\"}',\n",
       "       '$21,452.00', '$2,360.00', '$34,012.00', '$73,796.00',\n",
       "       '$41,617.00', '$4,076.00', '$34,119.00', '$19,843.00',\n",
       "       '$14,373.00', '$26,846.00', '$18,234.00', '$11,155.00',\n",
       "       '$19,787.00', '$26,279.00', '$2,252.00', '$1,823.00', '$8,903.00',\n",
       "       '$13,408.00', '$22,675.00', '$79,802.00', '$36,045.00',\n",
       "       '$17,541.00',\n",
       "       '{TV,Wifi,\"Air conditioning\",Kitchen,\"Paid parking off premises\",Elevator,Heating,Washer,Dryer,\"Smoke detector\",\"Fire extinguisher\",Essentials,Shampoo,Hangers,\"Hair dryer\",Iron,\"Laptop friendly workspace\",Bathtub,\"Room-darkening shades\",\"Hot water\",\"Bed linens\",Microwave,Refrigerator,\"Dishes and silverware\",\"Cooking basics\",Oven,Stove,\"Patio or balcony\",\"Luggage dropoff allowed\",\"Handheld shower head\"}',\n",
       "       '$24,065.00', '$84,951.00', '$52,022.00', '$29,068.00',\n",
       "       '$4,398.00', '$28,853.00', '$14,158.00', '$23,490.00',\n",
       "       '$11,977.00', '$13,584.00', '$49,876.00', '$17,751.00',\n",
       "       '$105,032.00', '$27,137.00', '$22,782.00', '$200,042.00',\n",
       "       '$392,213.00', '$250,025.00', '$19,414.00', '$7,059.00',\n",
       "       '$1,609.00', '$24,493.00', '$1,604.00', '$33,050.00', '$52,343.00',\n",
       "       '$4,719.00', '$27,060.00', '$25,777.00', '$249,960.00',\n",
       "       '$31,535.00', '$22,739.00',\n",
       "       '{TV,Wifi,\"Air conditioning\",Kitchen,Elevator,Heating,Washer,\"Smoke detector\",\"Carbon monoxide detector\",Essentials,Shampoo,Hangers,\"Hair dryer\",Iron,\"Laptop friendly workspace\",\"Hot water\",\"Bed linens\",Microwave,Refrigerator,\"Dishes and silverware\",\"Cooking basics\",Stove,\"Luggage dropoff allowed\",\"Long term stays allowed\",\"Shower gel\",\"Trash can\"}',\n",
       "       '$29,819.00', '$21,559.00', '$32,178.00', '$74,977.00',\n",
       "       '{TV,Wifi,\"Air conditioning\",Kitchen,Elevator,Heating,Washer,Dryer,\"Smoke detector\",\"Carbon monoxide detector\",Essentials,Shampoo,Hangers,Iron,\"Laptop friendly workspace\"}',\n",
       "       '$19,736.00', '$58,994.00', '$70,041.00', '$1,931.00',\n",
       "       '$24,172.00', '$17,648.00', '$39,039.00', '$10,696.00',\n",
       "       '$27,809.00', '$40,974.00', '$20,058.00', '$36,683.00',\n",
       "       '$27,781.00', '$1,711.00', '$16,040.00', '$54,976.00',\n",
       "       '$10,161.00', '$63,069.00', '$30,049.00',\n",
       "       '{TV,Wifi,\"Air conditioning\",Kitchen,Heating,Washer,Dryer,\"Smoke detector\",\"Carbon monoxide detector\",\"Fire extinguisher\",Essentials,Shampoo,Hangers,\"Hair dryer\",\"Laptop friendly workspace\",\"Private entrance\",\"Hot water\",Microwave,Refrigerator,\"Dishes and silverware\",\"Cooking basics\",Stove}',\n",
       "       '{Wifi,\"Air conditioning\",Washer,\"Smoke detector\",\"Carbon monoxide detector\",\"Fire extinguisher\",Essentials,Shampoo,Hangers,\"Hair dryer\",\"Laptop friendly workspace\",\"Bed linens\",\"Extra pillows and blankets\",Microwave,Refrigerator,\"Dishes and silverware\"}',\n",
       "       '$80,017.00', '$55,990.00', '$10,054.00', '$68,025.00',\n",
       "       '$18,127.00', '$27,459.00', '$15,875.00', '$10,268.00',\n",
       "       '$500,051.00', '$22,247.00', '$25,314.00', '$89,992.00',\n",
       "       '$18,449.00', '$59,789.00', '$25,349.00', '$32,500.00',\n",
       "       '$2,139.00', '$11,444.00', '$18,076.00', '$23,745.00',\n",
       "       '$20,487.00', '$36,686.00', '$26,493.00',\n",
       "       '{TV,Wifi,\"Air conditioning\",Kitchen,\"Free parking on premises\",Heating,Washer,Dryer,\"Smoke detector\",\"Carbon monoxide detector\",\"Fire extinguisher\",Essentials,Shampoo,Hangers,\"Hair dryer\",Iron,\"Laptop friendly workspace\",\"Private entrance\",Bathtub,\"Hot water\",Microwave,Refrigerator,\"Dishes and silverware\",\"Cooking basics\",Stove,\"Luggage dropoff allowed\",\"Long term stays allowed\"}',\n",
       "       '$16,364.00', '$2,567.00', '$99,984.00', '$42,462.00',\n",
       "       '$63,284.00', '$120,006.00', '$160,033.00', '$33,799.00',\n",
       "       '$12,407.00', '$22,096.00', '$14,118.00', '$32,393.00',\n",
       "       '$23,919.00', '$8,983.00', '$6,951.00', '$25,850.00', '$17,591.00',\n",
       "       '$300,016.00', '$14,909.00', '$33,144.00', '$35,825.00',\n",
       "       '$7,913.00',\n",
       "       '{TV,Internet,Wifi,\"Air conditioning\",Kitchen,\"Paid parking off premises\",Heating,\"Family/kid friendly\",Washer,\"Smoke detector\",\"Carbon monoxide detector\",\"First aid kit\",\"Safety card\",\"Fire extinguisher\",Essentials,Shampoo,\"24-hour check-in\",Hangers,\"Hair dryer\",Iron,\"Laptop friendly workspace\",\"Self check-in\",Lockbox,\"Hot water\",\"Bed linens\",\"Extra pillows and blankets\",\"Ethernet connection\",\"Pocket wifi\",Microwave,\"Coffee maker\",Refrigerator,\"Dishes and silverware\",\"Cooking basics\",\"Patio or balcony\",\"Long term stays allowed\"}',\n",
       "       '$31,749.00', '$54,334.00', '$17,755.00', '$15,338.00',\n",
       "       '$98,037.00', '$120,025.00', '$21,605.00', '$2,674.00',\n",
       "       '$50,734.00', '$55,776.00', '$24,456.00', '$75,083.00',\n",
       "       '$19,466.00', '$6,738.00', '$18,504.00', '$9,091.00', '$36,791.00',\n",
       "       '$49,769.00', '$32,822.00', '$23,705.00',\n",
       "       '{TV,Wifi,\"Air conditioning\",Kitchen,Elevator,Heating,Washer,Dryer,\"Smoke detector\",\"Carbon monoxide detector\",\"First aid kit\",\"Fire extinguisher\",Essentials,Shampoo,Hangers,\"Hair dryer\",Iron,\"Laptop friendly workspace\",\"Self check-in\",\"Smart lock\",\"Private living room\",\"Private entrance\",\"Hot water\",\"Bed linens\",\"Extra pillows and blankets\",\"Pocket wifi\",Microwave,\"Coffee maker\",Refrigerator,\"Dishes and silverware\",\"Cooking basics\",Oven,Stove,\"Single level home\",\"Long term stays allowed\"}',\n",
       "       '$69,950.00', '$240,050.00', '$38,507.00', '$13,729.00',\n",
       "       '{TV,Wifi,\"Air conditioning\",Kitchen,Elevator,Heating,Washer,\"Smoke detector\",\"Carbon monoxide detector\",\"Fire extinguisher\",Essentials,Shampoo,\"Lock on bedroom door\",Hangers,\"Hair dryer\",\"Laptop friendly workspace\",\"Self check-in\",\"Smart lock\",\"Private living room\",\"Private entrance\",\"Room-darkening shades\",\"Hot water\",\"Bed linens\",\"Pocket wifi\",Microwave,Refrigerator,\"Dishes and silverware\",\"Cooking basics\",Stove,\"Single level home\",\"Patio or balcony\",\"Luggage dropoff allowed\",\"Long term stays allowed\"}',\n",
       "       '$39,788.00', '$49,233.00', '$42,797.00', '$18,931.00',\n",
       "       '$24,707.00', '$12,335.00', '$43,977.00', '$37,541.00',\n",
       "       '$23,061.00', '$999,995.00', '$3,744.00', '$29,497.00',\n",
       "       '$14,008.00', '$10,589.00', '$14,225.00', '$10,375.00',\n",
       "       '$500,026.00', '$22,632.00', '$14,588.00', '$983,262.00',\n",
       "       '$20,165.00', '$15,446.00', '$12,511.00',\n",
       "       '{TV,Wifi,\"Air conditioning\",Kitchen,\"Hot tub\",Heating,Washer,Dryer,\"Smoke detector\",\"Carbon monoxide detector\",\"First aid kit\",\"Fire extinguisher\",Essentials,Shampoo,\"Lock on bedroom door\",Hangers,\"Hair dryer\",Iron,\"Laptop friendly workspace\",\"Self check-in\",Lockbox,\"Private living room\",\"Private entrance\",Bathtub,\"Table corner guards\",\"Room-darkening shades\",\"Hot water\",Microwave,Refrigerator,\"Dishes and silverware\",\"Cooking basics\",Oven,Stove,\"Long term stays allowed\",\"Paid parking on premises\"}',\n",
       "       '$27,352.00', '$399,976.00',\n",
       "       '{TV,Wifi,\"Air conditioning\",Kitchen,\"Paid parking off premises\",Heating,Washer,\"Smoke detector\",\"Carbon monoxide detector\",\"Safety card\",\"Fire extinguisher\",Essentials,Shampoo,\"Lock on bedroom door\",Hangers,\"Hair dryer\",Iron,\"Laptop friendly workspace\",\"Self check-in\",Lockbox,\"Hot water\",\"Bed linens\",Microwave,Refrigerator,\"Dishes and silverware\",\"Cooking basics\",Stove,\"Long term stays allowed\"}',\n",
       "       '$19,997.00', '$43,012.00', '$28,531.00', '$82,892.00',\n",
       "       '{TV,Wifi,\"Air conditioning\",Kitchen,Heating,Washer,Dryer,\"Smoke detector\",\"Fire extinguisher\",Essentials,Shampoo,Hangers,\"Hair dryer\",Iron,\"Laptop friendly workspace\",\"Private living room\",\"Private entrance\",\"Hot water\",\"Bed linens\",\"Pocket wifi\",Microwave,Refrigerator,\"Dishes and silverware\",\"Long term stays allowed\",\"Shower gel\"}',\n",
       "       '{TV,Wifi,\"Air conditioning\",Kitchen,Heating,Washer,\"Smoke detector\",\"Fire extinguisher\",Essentials,Shampoo,Hangers,\"Hair dryer\",Iron,\"Laptop friendly workspace\",\"Private living room\",\"Private entrance\",\"Hot water\",\"Bed linens\",\"Pocket wifi\",Microwave,Refrigerator,\"Dishes and silverware\",\"Cooking basics\",\"Long term stays allowed\",\"Trash can\"}',\n",
       "       '$34,761.00', '$24,563.00', '$50,520.00'], dtype=object)"
      ]
     },
     "execution_count": 11,
     "metadata": {},
     "output_type": "execute_result"
    }
   ],
   "source": [
    "data['price'].unique()"
   ]
  },
  {
   "cell_type": "code",
   "execution_count": 12,
   "metadata": {},
   "outputs": [
    {
     "data": {
      "text/plain": [
       "array(['95', '96', '90', '99', '91', '98', '94', '93', '97', '100', '88',\n",
       "       '87', '92', '86', '89', '85', '75', '73', '82', '84', '81', '83',\n",
       "       '76', '77', '80', '2016-12-08', '2016-12-17', '2016-12-09', '74',\n",
       "       '70', '60', '68', '67', '79', '53', '78', '2018-06-30',\n",
       "       '2018-04-02', '2019-04-25', '64', '2019-11-23', '2018-01-01', '72',\n",
       "       '2018-07-10', '2018-07-03', '2018-07-06', '2018-07-17', '65', '71',\n",
       "       '2018-09-09', '2018-09-10', '66', '2018-11-08', '69', '2019-01-13',\n",
       "       '50', '2019-01-02', '2019-02-15', '20', '2019-04-02', '63', '62',\n",
       "       '40', '2019-06-29', '57', '2019-10-06', '30', '2019-10-13', '55',\n",
       "       '2019-12-29', '2020-03-09', '2020-02-03', '2020-03-29'],\n",
       "      dtype=object)"
      ]
     },
     "execution_count": 12,
     "metadata": {},
     "output_type": "execute_result"
    }
   ],
   "source": [
    "data['review_scores_rating'].unique()"
   ]
  },
  {
   "cell_type": "markdown",
   "metadata": {},
   "source": [
    "# Clean Target Data (price and review_scores_rating data)"
   ]
  },
  {
   "cell_type": "markdown",
   "metadata": {},
   "source": [
    "Bersihkan data price karena dalam data price terdapat data dalam format JSON."
   ]
  },
  {
   "cell_type": "code",
   "execution_count": 13,
   "metadata": {},
   "outputs": [],
   "source": [
    "# price\n",
    "price_pattern = \"^[$]\"\n",
    "for i,x in enumerate(data['price']):\n",
    "    match = re.search(price_pattern,x)\n",
    "    data.at[i,'price'] = x.replace('$','').replace(',','')\n",
    "    if (not match):\n",
    "        data.drop(i, axis = 0, inplace = True)\n",
    "data = data.reset_index(drop = True)\n",
    "data['price'] = data['price'].astype(float)"
   ]
  },
  {
   "cell_type": "code",
   "execution_count": 14,
   "metadata": {
    "scrolled": true
   },
   "outputs": [
    {
     "data": {
      "text/plain": [
       "array([ 11048.,   4171.,   6952.,   3957.,   8045.,   5149.,   3530.,\n",
       "        10726.,  31980.,   5990.,  13049.,  28023.,  25028.,   3209.,\n",
       "         2145.,  13477.,   6007.,   3969.,   3325.,   3637.,  12871.,\n",
       "        12979.,   8581.,   3316.,  14974.,  69522.,  80004.,  10910.,\n",
       "        16471.,  26953.,   2460.,   9439.,   5470.,  18985.,  25991.,\n",
       "         2467.,  10512.,   5455.,   5134.,   8022.,   6845.,  31018.,\n",
       "         5348.,   7701.,  13193.,   8450.,  10404.,  11979.,  17006.,\n",
       "        15017.,   3850.,   9519.,  16044.,   9947.,  49984.,   7508.,\n",
       "         5776.,   4385.,   6543.,   4505.,  25743.,   4827.,  10190.,\n",
       "         3218.,   3861.,  34868.,  33680.,   9626.,   9975.,   6524.,\n",
       "         9010.,  15982.,  16196.,   2353.,   4813.,   6972.,   2896.,\n",
       "        20001.,   5241.,   5041.,   2032.,  14011.,  16518.,   2994.,\n",
       "        24992.,   9546.,   7723.,  17969.,  23958.,  30033.,   6865.,\n",
       "        34967.,   4064.,   6757.,   1497.,  10619.,  31964.,  16947.,\n",
       "         7487.,   5027.,  13944.,   4492.,  14051.,   7808.,   2995.,\n",
       "         4290.,   6221.,  12013.,  23597.,   4706.,   9840.,  40008.,\n",
       "         4278.,  15830.,   9224.,   7830.,  23531.,  19951., 128028.,\n",
       "        16151.,  19307.,  12835.,  12550.,  12514.,  14695.,  16089.,\n",
       "        27995.,  24026.,  15553.,  24670.,  18771.,  11799.,  24600.,\n",
       "        16411.,   4183.,  34753.,  12764.,  25957.,  17055.,  26923.,\n",
       "        13798.,  11906.,   6114.,  18020.,   8984.,  16733.,   1390.,\n",
       "        37970.,   5899.,  13515.,   2789.,   8236.,  11124.,  10083.,\n",
       "        21989.,   9198., 200011.,   6844.,  17113.,  28960.,  35503.,\n",
       "        19038.,   6417.,  36469.,   4599.,   4920.,  28985.,  39043.,\n",
       "         6204.,  22354.,  13904.,  18183.,  32087.,  26739.,  16792.,\n",
       "        10482.,   7294.,  99967.,  11477.,   3432.,   7273.,  22033.,\n",
       "        37005.,   7186.,  32071.,  18825.,  40002.,   3003.,  45029.,\n",
       "         2682.,   9733.,  15937.,   8557.,  12120.,   1394., 149954.,\n",
       "        11551.,  15767.,  12228.,  26632.,   8771.,   4934.,  17484.,\n",
       "         9653.,   3540.,  36040.,  49949.,  20964.,   9761.,  20809.,\n",
       "        55025.,   2246., 749969.,  15231., 300009., 180009.,   6436.,\n",
       "        17913.,   8688.,   9868.,  10941.,   5685.,   5363.,  27702.,\n",
       "        21023.,   3754.,   5883.,  45050.,   7937.,   5774.,   9117.,\n",
       "         7616.,   6328.,   8474.,  11872.,   6650.,   4612.,   8259.,\n",
       "         7079.,  22954.,  12942.,  14480.,   1925.,  29926.,   5792.,\n",
       "        14802.,  16304.,  29948.,  74975.,  48024.,  13300.,   6310.,\n",
       "        25023., 900027.,  18290.,  57971.,   5578.,   1177.,   1180.,\n",
       "        14546.,  15509.,  95999.,  48053.,  22525.,  14332.,  12300.,\n",
       "         7594.,  42904.,  26815.,  17327.,  27030.,  11691.,  12442.,\n",
       "         1502.,   8152.,  22847.,  24488.,  11017.,  89951.,   6631.,\n",
       "         3423.,  13086.,  11765., 149951.,   2888.,   2781.,  33036.,\n",
       "         3102.,  22991.,  22996.,  15295., 160892.,  10833.,  35831.,\n",
       "        40759.,   8366.,   8129.,  59959.,  60003.,  24777.,  14971.,\n",
       "         3647.,  14760.,  10803.,  10297.,   9412.,  20322.,   1818.,\n",
       "        30998.,  42046.,  13622.,  22461.,  21774.,      0.,  18878.,\n",
       "        34975., 139976.,  12728.,  11658.,   2038., 900047.,  12657.,\n",
       "        12621.,   2574.,  17376.,  16625.,   8795.,   5256., 100005.,\n",
       "        38828.,  20272.,  52451.,  16840.,  36576., 148029.,  38505.,\n",
       "        14266.,  19522.,  13263.,  29841.,   7915.,   1283.,  34002.,\n",
       "        17805.,   7380.,   3111.,  14867.,  30784.,  13837.,   1287.,\n",
       "         1716.,  11262.,  17220.,  19252.,   9332.,  17162.,   5562.,\n",
       "         7401.,   7699.,  19629.,  12086.,   7166.,  46015.,  20429.,\n",
       "        20380.,  23812.,  27244.,  24814.,  46954.,  57008.,  27167.,\n",
       "         3529.,  27888.,  21392.,   8877.,  17862.,  21452.,   2360.,\n",
       "        34012.,  73796.,  41617.,   4076.,  34119.,  19843.,  14373.,\n",
       "        26846.,  18234.,  11155.,  19787.,  26279.,   2252.,   1823.,\n",
       "         8903.,  13408.,  22675.,  79802.,  36045.,  17541.,  24065.,\n",
       "        84951.,  52022.,  29068.,   4398.,  28853.,  14158.,  23490.,\n",
       "        11977.,  13584.,  49876.,  17751., 105032.,  27137.,  22782.,\n",
       "       200042., 392213., 250025.,  19414.,   7059.,   1609.,  24493.,\n",
       "         1604.,  33050.,  52343.,   4719.,  27060.,  25777., 249960.,\n",
       "        31535.,  22739.,  29819.,  21559.,  32178.,  74977.,  19736.,\n",
       "        58994.,  70041.,   1931.,  24172.,  17648.,  39039.,  10696.,\n",
       "        27809.,  40974.,  20058.,  36683.,  27781.,   1711.,  16040.,\n",
       "        54976.,  10161.,  63069.,  30049.,  80017.,  55990.,  10054.,\n",
       "        68025.,  18127.,  27459.,  15875.,  10268., 500051.,  22247.,\n",
       "        25314.,  89992.,  18449.,  59789.,  25349.,  32500.,   2139.,\n",
       "        11444.,  18076.,  23745.,  20487.,  36686.,  26493.,  16364.,\n",
       "         2567.,  99984.,  42462.,  63284., 120006., 160033.,  33799.,\n",
       "        12407.,  22096.,  14118.,  32393.,  23919.,   8983.,   6951.,\n",
       "        25850.,  17591., 300016.,  14909.,  33144.,  35825.,   7913.,\n",
       "        31749.,  54334.,  17755.,  15338.,  98037., 120025.,  21605.,\n",
       "         2674.,  50734.,  55776.,  24456.,  75083.,  19466.,   6738.,\n",
       "        18504.,   9091.,  36791.,  49769.,  32822.,  23705.,  69950.,\n",
       "       240050.,  38507.,  13729.,  39788.,  49233.,  42797.,  18931.,\n",
       "        24707.,  12335.,  43977.,  37541.,  23061., 999995.,   3744.,\n",
       "        29497.,  14008.,  10589.,  14225.,  10375., 500026.,  22632.,\n",
       "        14588., 983262.,  20165.,  15446.,  12511.,  27352., 399976.,\n",
       "        19997.,  43012.,  28531.,  82892.,  34761.,  24563.,  50520.])"
      ]
     },
     "execution_count": 14,
     "metadata": {},
     "output_type": "execute_result"
    }
   ],
   "source": [
    "data['price'].unique()"
   ]
  },
  {
   "cell_type": "markdown",
   "metadata": {},
   "source": [
    "Bersihkan data review_scores_rating karena ada data tanggal pada data tersebut"
   ]
  },
  {
   "cell_type": "code",
   "execution_count": 15,
   "metadata": {},
   "outputs": [],
   "source": [
    "review_scores_rating_pattern = \"^[0-9]{1,3}$\"\n",
    "for i,x in enumerate(data['review_scores_rating']):\n",
    "    match = re.search(review_scores_rating_pattern,x)\n",
    "    if (not match):\n",
    "        data.drop(i, axis = 0, inplace = True)\n",
    "data = data.reset_index(drop = True)\n",
    "data['review_scores_rating'] = data['review_scores_rating'].astype(int)"
   ]
  },
  {
   "cell_type": "code",
   "execution_count": 16,
   "metadata": {},
   "outputs": [
    {
     "data": {
      "text/plain": [
       "array([ 95,  96,  90,  99,  91,  98,  94,  93,  97, 100,  88,  87,  92,\n",
       "        86,  89,  85,  75,  73,  82,  84,  81,  83,  76,  77,  80,  74,\n",
       "        70,  60,  68,  67,  79,  53,  78,  64,  72,  65,  71,  66,  69,\n",
       "        50,  20,  63,  62,  40,  57,  30,  55])"
      ]
     },
     "execution_count": 16,
     "metadata": {},
     "output_type": "execute_result"
    }
   ],
   "source": [
    "data['review_scores_rating'].unique()"
   ]
  },
  {
   "cell_type": "markdown",
   "metadata": {},
   "source": [
    "# Data Cleaning (Data Independen)"
   ]
  },
  {
   "cell_type": "code",
   "execution_count": 17,
   "metadata": {},
   "outputs": [],
   "source": [
    "numerical = ['host_response_rate','accommodates','bathrooms','bedrooms',\n",
    " 'beds',\n",
    " 'extra_people',\n",
    " 'minimum_nights',\n",
    " 'maximum_nights',\n",
    " 'number_of_reviews']"
   ]
  },
  {
   "cell_type": "code",
   "execution_count": 18,
   "metadata": {},
   "outputs": [],
   "source": [
    "categorical = [ 'host_response_time', 'neighbourhood',\n",
    " 'property_type']"
   ]
  },
  {
   "cell_type": "markdown",
   "metadata": {},
   "source": [
    "## Categorical data"
   ]
  },
  {
   "cell_type": "code",
   "execution_count": 19,
   "metadata": {},
   "outputs": [],
   "source": [
    "from sklearn import preprocessing"
   ]
  },
  {
   "cell_type": "markdown",
   "metadata": {},
   "source": [
    "### 1. host_response_time"
   ]
  },
  {
   "cell_type": "code",
   "execution_count": 20,
   "metadata": {},
   "outputs": [
    {
     "data": {
      "text/plain": [
       "['within a few hours', 'within a day', 'within an hour', 'a few days or more']"
      ]
     },
     "execution_count": 20,
     "metadata": {},
     "output_type": "execute_result"
    }
   ],
   "source": [
    "data['host_response_time'].unique().tolist()"
   ]
  },
  {
   "cell_type": "markdown",
   "metadata": {},
   "source": [
    "Kita perlu mengencode label-label tersebut menjadi angka"
   ]
  },
  {
   "cell_type": "code",
   "execution_count": 21,
   "metadata": {},
   "outputs": [],
   "source": [
    "le = preprocessing.LabelEncoder()\n",
    "\n",
    "data[['host_response_time']] = le.fit_transform(data['host_response_time'])"
   ]
  },
  {
   "cell_type": "code",
   "execution_count": 22,
   "metadata": {},
   "outputs": [
    {
     "data": {
      "text/plain": [
       "array([2, 1, 3, 0])"
      ]
     },
     "execution_count": 22,
     "metadata": {},
     "output_type": "execute_result"
    }
   ],
   "source": [
    "data['host_response_time'].unique()"
   ]
  },
  {
   "cell_type": "markdown",
   "metadata": {},
   "source": [
    "### 2. neighbourhood"
   ]
  },
  {
   "cell_type": "code",
   "execution_count": 23,
   "metadata": {},
   "outputs": [
    {
     "data": {
      "text/plain": [
       "array(['Sumida District', 'Nerima District', 'Setagaya District',\n",
       "       'Shinjuku District', 'Shimokitazawa', 'Adachi District',\n",
       "       'Shibuya District', 'Katsushika District', 'Meguro District',\n",
       "       'Toshima District', 'Minato District', 'Suginami District',\n",
       "       'Bunkyo District', 'Taito District', 'Itabashi District',\n",
       "       'Asakusa/Ueno', 'Edogawa District', 'Arakawa District',\n",
       "       'Kita District', 'Nakano District', 'Akasaka', 'Nakameguro',\n",
       "       'Shibuya', 'Chiyoda District', 'Chūō District', 'Shinjuku',\n",
       "       'Ikebukuro', 'Aoyama', 'Tsukishima', 'Tsukiji', 'Ebisu/Daikanyama',\n",
       "       'Roppongi', 'Ginza', 'Harajuku', 'Akihabara', 'Roppongi Hills'],\n",
       "      dtype=object)"
      ]
     },
     "execution_count": 23,
     "metadata": {},
     "output_type": "execute_result"
    }
   ],
   "source": [
    "data['neighbourhood'].unique()"
   ]
  },
  {
   "cell_type": "code",
   "execution_count": 24,
   "metadata": {},
   "outputs": [],
   "source": [
    "le = preprocessing.LabelEncoder()\n",
    "data['neighbourhood'] = le.fit_transform(data['neighbourhood'])"
   ]
  },
  {
   "cell_type": "markdown",
   "metadata": {},
   "source": [
    "Kita perlu mengencode label-label tersebut menjadi angka"
   ]
  },
  {
   "cell_type": "code",
   "execution_count": 25,
   "metadata": {},
   "outputs": [
    {
     "data": {
      "text/plain": [
       "array([31, 21, 24, 29, 27,  0, 26, 15, 17, 33, 18, 30,  6, 32, 14,  5, 10,\n",
       "        4, 16, 20,  1, 19, 25,  7,  8, 28, 13,  3, 35, 34,  9, 22, 11, 12,\n",
       "        2, 23])"
      ]
     },
     "execution_count": 25,
     "metadata": {},
     "output_type": "execute_result"
    }
   ],
   "source": [
    "data['neighbourhood'].unique()"
   ]
  },
  {
   "cell_type": "markdown",
   "metadata": {},
   "source": [
    "### 3. property_type"
   ]
  },
  {
   "cell_type": "code",
   "execution_count": 26,
   "metadata": {},
   "outputs": [
    {
     "data": {
      "text/plain": [
       "array(['Apartment', 'House', 'Condominium', 'Hut', 'Tiny house',\n",
       "       'Townhouse', 'Aparthotel', 'Loft', 'Hostel', 'Guesthouse',\n",
       "       'Guest suite', 'Cabin', 'Serviced apartment', 'Villa',\n",
       "       'Boutique hotel', 'Ryokan (Japan)', 'Hotel', 'Dorm', 'Camper/RV',\n",
       "       'Bungalow', 'Bed and breakfast', 'Dome house', 'Tent', 'Cottage'],\n",
       "      dtype=object)"
      ]
     },
     "execution_count": 26,
     "metadata": {},
     "output_type": "execute_result"
    }
   ],
   "source": [
    "data['property_type'].unique()"
   ]
  },
  {
   "cell_type": "code",
   "execution_count": 27,
   "metadata": {},
   "outputs": [],
   "source": [
    "le = preprocessing.LabelEncoder()\n",
    "data['property_type'] = le.fit_transform(data['property_type'])"
   ]
  },
  {
   "cell_type": "code",
   "execution_count": 28,
   "metadata": {},
   "outputs": [
    {
     "data": {
      "text/plain": [
       "array([ 1, 15,  7, 16, 21, 22,  0, 17, 13, 12, 11,  5, 19, 23,  3, 18, 14,\n",
       "       10,  6,  4,  2,  9, 20,  8])"
      ]
     },
     "execution_count": 28,
     "metadata": {},
     "output_type": "execute_result"
    }
   ],
   "source": [
    "data['property_type'].unique()"
   ]
  },
  {
   "cell_type": "markdown",
   "metadata": {},
   "source": [
    "## Numerical data"
   ]
  },
  {
   "cell_type": "markdown",
   "metadata": {},
   "source": [
    "Bersihkan data yang seharusnya numerikal dengan cara menghilangkan simbol-simbol seperti '$', ',' , '%'"
   ]
  },
  {
   "cell_type": "code",
   "execution_count": 29,
   "metadata": {},
   "outputs": [],
   "source": [
    "for x in numerical:\n",
    "    for i,j in enumerate(data[x]):\n",
    "        data.at[i,x] = j.replace('$','').replace(',','').replace('%','')"
   ]
  },
  {
   "cell_type": "code",
   "execution_count": 30,
   "metadata": {},
   "outputs": [],
   "source": [
    "for x in numerical:\n",
    "    if x=='extra_people' or x=='bathrooms':\n",
    "        data[x] = data[x].astype(float)\n",
    "    else:\n",
    "        data[x] = data[x].astype(int)"
   ]
  },
  {
   "cell_type": "code",
   "execution_count": 31,
   "metadata": {},
   "outputs": [
    {
     "name": "stdout",
     "output_type": "stream",
     "text": [
      "<class 'pandas.core.frame.DataFrame'>\n",
      "RangeIndex: 8550 entries, 0 to 8549\n",
      "Data columns (total 12 columns):\n",
      " #   Column              Non-Null Count  Dtype  \n",
      "---  ------              --------------  -----  \n",
      " 0   host_response_time  8550 non-null   int32  \n",
      " 1   host_response_rate  8550 non-null   int32  \n",
      " 2   neighbourhood       8550 non-null   int32  \n",
      " 3   property_type       8550 non-null   int32  \n",
      " 4   accommodates        8550 non-null   int32  \n",
      " 5   bathrooms           8550 non-null   float64\n",
      " 6   bedrooms            8550 non-null   int32  \n",
      " 7   beds                8550 non-null   int32  \n",
      " 8   extra_people        8550 non-null   float64\n",
      " 9   minimum_nights      8550 non-null   int32  \n",
      " 10  maximum_nights      8550 non-null   int32  \n",
      " 11  number_of_reviews   8550 non-null   int32  \n",
      "dtypes: float64(2), int32(10)\n",
      "memory usage: 467.7 KB\n"
     ]
    }
   ],
   "source": [
    "data[features].info()"
   ]
  },
  {
   "cell_type": "code",
   "execution_count": 32,
   "metadata": {},
   "outputs": [],
   "source": [
    "price = data['price']\n",
    "review_scores_rating = data['review_scores_rating']"
   ]
  },
  {
   "cell_type": "code",
   "execution_count": 33,
   "metadata": {},
   "outputs": [],
   "source": [
    "for x in columns:\n",
    "    if x in numerical or x in categorical:\n",
    "        continue\n",
    "    else:\n",
    "        data.drop(x, axis=1,inplace=True)"
   ]
  },
  {
   "cell_type": "code",
   "execution_count": 34,
   "metadata": {},
   "outputs": [],
   "source": [
    "columns = data.columns"
   ]
  },
  {
   "cell_type": "code",
   "execution_count": 35,
   "metadata": {},
   "outputs": [
    {
     "data": {
      "text/plain": [
       "Index(['host_response_time', 'host_response_rate', 'neighbourhood',\n",
       "       'property_type', 'accommodates', 'bathrooms', 'bedrooms', 'beds',\n",
       "       'extra_people', 'minimum_nights', 'maximum_nights',\n",
       "       'number_of_reviews'],\n",
       "      dtype='object')"
      ]
     },
     "execution_count": 35,
     "metadata": {},
     "output_type": "execute_result"
    }
   ],
   "source": [
    "columns"
   ]
  },
  {
   "cell_type": "code",
   "execution_count": 36,
   "metadata": {},
   "outputs": [],
   "source": [
    "columns = data.columns\n",
    "data.insert(len(columns),'review_scores_rating',review_scores_rating)"
   ]
  },
  {
   "cell_type": "code",
   "execution_count": 37,
   "metadata": {},
   "outputs": [],
   "source": [
    "columns = data.columns"
   ]
  },
  {
   "cell_type": "code",
   "execution_count": 38,
   "metadata": {},
   "outputs": [
    {
     "data": {
      "text/html": [
       "<div>\n",
       "<style scoped>\n",
       "    .dataframe tbody tr th:only-of-type {\n",
       "        vertical-align: middle;\n",
       "    }\n",
       "\n",
       "    .dataframe tbody tr th {\n",
       "        vertical-align: top;\n",
       "    }\n",
       "\n",
       "    .dataframe thead th {\n",
       "        text-align: right;\n",
       "    }\n",
       "</style>\n",
       "<table border=\"1\" class=\"dataframe\">\n",
       "  <thead>\n",
       "    <tr style=\"text-align: right;\">\n",
       "      <th></th>\n",
       "      <th>host_response_time</th>\n",
       "      <th>host_response_rate</th>\n",
       "      <th>neighbourhood</th>\n",
       "      <th>property_type</th>\n",
       "      <th>accommodates</th>\n",
       "      <th>bathrooms</th>\n",
       "      <th>bedrooms</th>\n",
       "      <th>beds</th>\n",
       "      <th>extra_people</th>\n",
       "      <th>minimum_nights</th>\n",
       "      <th>maximum_nights</th>\n",
       "      <th>number_of_reviews</th>\n",
       "      <th>review_scores_rating</th>\n",
       "    </tr>\n",
       "  </thead>\n",
       "  <tbody>\n",
       "    <tr>\n",
       "      <th>0</th>\n",
       "      <td>2</td>\n",
       "      <td>100</td>\n",
       "      <td>31</td>\n",
       "      <td>1</td>\n",
       "      <td>2</td>\n",
       "      <td>1.0</td>\n",
       "      <td>1</td>\n",
       "      <td>2</td>\n",
       "      <td>0.0</td>\n",
       "      <td>3</td>\n",
       "      <td>365</td>\n",
       "      <td>165</td>\n",
       "      <td>95</td>\n",
       "    </tr>\n",
       "    <tr>\n",
       "      <th>1</th>\n",
       "      <td>2</td>\n",
       "      <td>100</td>\n",
       "      <td>21</td>\n",
       "      <td>1</td>\n",
       "      <td>2</td>\n",
       "      <td>1.0</td>\n",
       "      <td>1</td>\n",
       "      <td>1</td>\n",
       "      <td>1070.0</td>\n",
       "      <td>28</td>\n",
       "      <td>180</td>\n",
       "      <td>113</td>\n",
       "      <td>95</td>\n",
       "    </tr>\n",
       "    <tr>\n",
       "      <th>2</th>\n",
       "      <td>1</td>\n",
       "      <td>100</td>\n",
       "      <td>24</td>\n",
       "      <td>1</td>\n",
       "      <td>2</td>\n",
       "      <td>1.0</td>\n",
       "      <td>0</td>\n",
       "      <td>1</td>\n",
       "      <td>0.0</td>\n",
       "      <td>28</td>\n",
       "      <td>720</td>\n",
       "      <td>103</td>\n",
       "      <td>95</td>\n",
       "    </tr>\n",
       "    <tr>\n",
       "      <th>3</th>\n",
       "      <td>2</td>\n",
       "      <td>100</td>\n",
       "      <td>21</td>\n",
       "      <td>1</td>\n",
       "      <td>2</td>\n",
       "      <td>1.0</td>\n",
       "      <td>1</td>\n",
       "      <td>1</td>\n",
       "      <td>1070.0</td>\n",
       "      <td>28</td>\n",
       "      <td>180</td>\n",
       "      <td>103</td>\n",
       "      <td>96</td>\n",
       "    </tr>\n",
       "    <tr>\n",
       "      <th>4</th>\n",
       "      <td>1</td>\n",
       "      <td>100</td>\n",
       "      <td>24</td>\n",
       "      <td>15</td>\n",
       "      <td>3</td>\n",
       "      <td>1.0</td>\n",
       "      <td>2</td>\n",
       "      <td>2</td>\n",
       "      <td>550.0</td>\n",
       "      <td>28</td>\n",
       "      <td>720</td>\n",
       "      <td>44</td>\n",
       "      <td>96</td>\n",
       "    </tr>\n",
       "    <tr>\n",
       "      <th>...</th>\n",
       "      <td>...</td>\n",
       "      <td>...</td>\n",
       "      <td>...</td>\n",
       "      <td>...</td>\n",
       "      <td>...</td>\n",
       "      <td>...</td>\n",
       "      <td>...</td>\n",
       "      <td>...</td>\n",
       "      <td>...</td>\n",
       "      <td>...</td>\n",
       "      <td>...</td>\n",
       "      <td>...</td>\n",
       "      <td>...</td>\n",
       "    </tr>\n",
       "    <tr>\n",
       "      <th>8545</th>\n",
       "      <td>3</td>\n",
       "      <td>100</td>\n",
       "      <td>5</td>\n",
       "      <td>1</td>\n",
       "      <td>9</td>\n",
       "      <td>1.5</td>\n",
       "      <td>3</td>\n",
       "      <td>5</td>\n",
       "      <td>1000.0</td>\n",
       "      <td>2</td>\n",
       "      <td>1125</td>\n",
       "      <td>1</td>\n",
       "      <td>100</td>\n",
       "    </tr>\n",
       "    <tr>\n",
       "      <th>8546</th>\n",
       "      <td>3</td>\n",
       "      <td>100</td>\n",
       "      <td>5</td>\n",
       "      <td>1</td>\n",
       "      <td>7</td>\n",
       "      <td>1.5</td>\n",
       "      <td>3</td>\n",
       "      <td>4</td>\n",
       "      <td>1000.0</td>\n",
       "      <td>2</td>\n",
       "      <td>1125</td>\n",
       "      <td>2</td>\n",
       "      <td>100</td>\n",
       "    </tr>\n",
       "    <tr>\n",
       "      <th>8547</th>\n",
       "      <td>3</td>\n",
       "      <td>100</td>\n",
       "      <td>32</td>\n",
       "      <td>1</td>\n",
       "      <td>7</td>\n",
       "      <td>1.5</td>\n",
       "      <td>2</td>\n",
       "      <td>4</td>\n",
       "      <td>1000.0</td>\n",
       "      <td>2</td>\n",
       "      <td>1125</td>\n",
       "      <td>1</td>\n",
       "      <td>100</td>\n",
       "    </tr>\n",
       "    <tr>\n",
       "      <th>8548</th>\n",
       "      <td>3</td>\n",
       "      <td>100</td>\n",
       "      <td>29</td>\n",
       "      <td>1</td>\n",
       "      <td>6</td>\n",
       "      <td>1.5</td>\n",
       "      <td>2</td>\n",
       "      <td>3</td>\n",
       "      <td>1000.0</td>\n",
       "      <td>1</td>\n",
       "      <td>1125</td>\n",
       "      <td>1</td>\n",
       "      <td>100</td>\n",
       "    </tr>\n",
       "    <tr>\n",
       "      <th>8549</th>\n",
       "      <td>3</td>\n",
       "      <td>100</td>\n",
       "      <td>31</td>\n",
       "      <td>1</td>\n",
       "      <td>4</td>\n",
       "      <td>1.5</td>\n",
       "      <td>1</td>\n",
       "      <td>3</td>\n",
       "      <td>2000.0</td>\n",
       "      <td>2</td>\n",
       "      <td>90</td>\n",
       "      <td>2</td>\n",
       "      <td>100</td>\n",
       "    </tr>\n",
       "  </tbody>\n",
       "</table>\n",
       "<p>8550 rows × 13 columns</p>\n",
       "</div>"
      ],
      "text/plain": [
       "      host_response_time  host_response_rate  neighbourhood  property_type  \\\n",
       "0                      2                 100             31              1   \n",
       "1                      2                 100             21              1   \n",
       "2                      1                 100             24              1   \n",
       "3                      2                 100             21              1   \n",
       "4                      1                 100             24             15   \n",
       "...                  ...                 ...            ...            ...   \n",
       "8545                   3                 100              5              1   \n",
       "8546                   3                 100              5              1   \n",
       "8547                   3                 100             32              1   \n",
       "8548                   3                 100             29              1   \n",
       "8549                   3                 100             31              1   \n",
       "\n",
       "      accommodates  bathrooms  bedrooms  beds  extra_people  minimum_nights  \\\n",
       "0                2        1.0         1     2           0.0               3   \n",
       "1                2        1.0         1     1        1070.0              28   \n",
       "2                2        1.0         0     1           0.0              28   \n",
       "3                2        1.0         1     1        1070.0              28   \n",
       "4                3        1.0         2     2         550.0              28   \n",
       "...            ...        ...       ...   ...           ...             ...   \n",
       "8545             9        1.5         3     5        1000.0               2   \n",
       "8546             7        1.5         3     4        1000.0               2   \n",
       "8547             7        1.5         2     4        1000.0               2   \n",
       "8548             6        1.5         2     3        1000.0               1   \n",
       "8549             4        1.5         1     3        2000.0               2   \n",
       "\n",
       "      maximum_nights  number_of_reviews  review_scores_rating  \n",
       "0                365                165                    95  \n",
       "1                180                113                    95  \n",
       "2                720                103                    95  \n",
       "3                180                103                    96  \n",
       "4                720                 44                    96  \n",
       "...              ...                ...                   ...  \n",
       "8545            1125                  1                   100  \n",
       "8546            1125                  2                   100  \n",
       "8547            1125                  1                   100  \n",
       "8548            1125                  1                   100  \n",
       "8549              90                  2                   100  \n",
       "\n",
       "[8550 rows x 13 columns]"
      ]
     },
     "execution_count": 38,
     "metadata": {},
     "output_type": "execute_result"
    }
   ],
   "source": [
    "data"
   ]
  },
  {
   "cell_type": "markdown",
   "metadata": {},
   "source": [
    "# Feature Engineering untuk data yang akan digunakan untuk melakukan klasifikasi review_scores_rating"
   ]
  },
  {
   "cell_type": "code",
   "execution_count": 39,
   "metadata": {},
   "outputs": [
    {
     "data": {
      "text/html": [
       "<div>\n",
       "<style scoped>\n",
       "    .dataframe tbody tr th:only-of-type {\n",
       "        vertical-align: middle;\n",
       "    }\n",
       "\n",
       "    .dataframe tbody tr th {\n",
       "        vertical-align: top;\n",
       "    }\n",
       "\n",
       "    .dataframe thead th {\n",
       "        text-align: right;\n",
       "    }\n",
       "</style>\n",
       "<table border=\"1\" class=\"dataframe\">\n",
       "  <thead>\n",
       "    <tr style=\"text-align: right;\">\n",
       "      <th></th>\n",
       "      <th>host_response_time</th>\n",
       "      <th>host_response_rate</th>\n",
       "      <th>neighbourhood</th>\n",
       "      <th>property_type</th>\n",
       "      <th>accommodates</th>\n",
       "      <th>bathrooms</th>\n",
       "      <th>bedrooms</th>\n",
       "      <th>beds</th>\n",
       "      <th>extra_people</th>\n",
       "      <th>minimum_nights</th>\n",
       "      <th>maximum_nights</th>\n",
       "      <th>number_of_reviews</th>\n",
       "      <th>review_scores_rating</th>\n",
       "    </tr>\n",
       "  </thead>\n",
       "  <tbody>\n",
       "    <tr>\n",
       "      <th>0</th>\n",
       "      <td>2</td>\n",
       "      <td>100</td>\n",
       "      <td>31</td>\n",
       "      <td>1</td>\n",
       "      <td>2</td>\n",
       "      <td>1.0</td>\n",
       "      <td>1</td>\n",
       "      <td>2</td>\n",
       "      <td>0.0</td>\n",
       "      <td>3</td>\n",
       "      <td>365</td>\n",
       "      <td>165</td>\n",
       "      <td>95</td>\n",
       "    </tr>\n",
       "    <tr>\n",
       "      <th>1</th>\n",
       "      <td>2</td>\n",
       "      <td>100</td>\n",
       "      <td>21</td>\n",
       "      <td>1</td>\n",
       "      <td>2</td>\n",
       "      <td>1.0</td>\n",
       "      <td>1</td>\n",
       "      <td>1</td>\n",
       "      <td>1070.0</td>\n",
       "      <td>28</td>\n",
       "      <td>180</td>\n",
       "      <td>113</td>\n",
       "      <td>95</td>\n",
       "    </tr>\n",
       "    <tr>\n",
       "      <th>2</th>\n",
       "      <td>1</td>\n",
       "      <td>100</td>\n",
       "      <td>24</td>\n",
       "      <td>1</td>\n",
       "      <td>2</td>\n",
       "      <td>1.0</td>\n",
       "      <td>0</td>\n",
       "      <td>1</td>\n",
       "      <td>0.0</td>\n",
       "      <td>28</td>\n",
       "      <td>720</td>\n",
       "      <td>103</td>\n",
       "      <td>95</td>\n",
       "    </tr>\n",
       "    <tr>\n",
       "      <th>3</th>\n",
       "      <td>2</td>\n",
       "      <td>100</td>\n",
       "      <td>21</td>\n",
       "      <td>1</td>\n",
       "      <td>2</td>\n",
       "      <td>1.0</td>\n",
       "      <td>1</td>\n",
       "      <td>1</td>\n",
       "      <td>1070.0</td>\n",
       "      <td>28</td>\n",
       "      <td>180</td>\n",
       "      <td>103</td>\n",
       "      <td>96</td>\n",
       "    </tr>\n",
       "    <tr>\n",
       "      <th>4</th>\n",
       "      <td>1</td>\n",
       "      <td>100</td>\n",
       "      <td>24</td>\n",
       "      <td>15</td>\n",
       "      <td>3</td>\n",
       "      <td>1.0</td>\n",
       "      <td>2</td>\n",
       "      <td>2</td>\n",
       "      <td>550.0</td>\n",
       "      <td>28</td>\n",
       "      <td>720</td>\n",
       "      <td>44</td>\n",
       "      <td>96</td>\n",
       "    </tr>\n",
       "    <tr>\n",
       "      <th>...</th>\n",
       "      <td>...</td>\n",
       "      <td>...</td>\n",
       "      <td>...</td>\n",
       "      <td>...</td>\n",
       "      <td>...</td>\n",
       "      <td>...</td>\n",
       "      <td>...</td>\n",
       "      <td>...</td>\n",
       "      <td>...</td>\n",
       "      <td>...</td>\n",
       "      <td>...</td>\n",
       "      <td>...</td>\n",
       "      <td>...</td>\n",
       "    </tr>\n",
       "    <tr>\n",
       "      <th>8545</th>\n",
       "      <td>3</td>\n",
       "      <td>100</td>\n",
       "      <td>5</td>\n",
       "      <td>1</td>\n",
       "      <td>9</td>\n",
       "      <td>1.5</td>\n",
       "      <td>3</td>\n",
       "      <td>5</td>\n",
       "      <td>1000.0</td>\n",
       "      <td>2</td>\n",
       "      <td>1125</td>\n",
       "      <td>1</td>\n",
       "      <td>100</td>\n",
       "    </tr>\n",
       "    <tr>\n",
       "      <th>8546</th>\n",
       "      <td>3</td>\n",
       "      <td>100</td>\n",
       "      <td>5</td>\n",
       "      <td>1</td>\n",
       "      <td>7</td>\n",
       "      <td>1.5</td>\n",
       "      <td>3</td>\n",
       "      <td>4</td>\n",
       "      <td>1000.0</td>\n",
       "      <td>2</td>\n",
       "      <td>1125</td>\n",
       "      <td>2</td>\n",
       "      <td>100</td>\n",
       "    </tr>\n",
       "    <tr>\n",
       "      <th>8547</th>\n",
       "      <td>3</td>\n",
       "      <td>100</td>\n",
       "      <td>32</td>\n",
       "      <td>1</td>\n",
       "      <td>7</td>\n",
       "      <td>1.5</td>\n",
       "      <td>2</td>\n",
       "      <td>4</td>\n",
       "      <td>1000.0</td>\n",
       "      <td>2</td>\n",
       "      <td>1125</td>\n",
       "      <td>1</td>\n",
       "      <td>100</td>\n",
       "    </tr>\n",
       "    <tr>\n",
       "      <th>8548</th>\n",
       "      <td>3</td>\n",
       "      <td>100</td>\n",
       "      <td>29</td>\n",
       "      <td>1</td>\n",
       "      <td>6</td>\n",
       "      <td>1.5</td>\n",
       "      <td>2</td>\n",
       "      <td>3</td>\n",
       "      <td>1000.0</td>\n",
       "      <td>1</td>\n",
       "      <td>1125</td>\n",
       "      <td>1</td>\n",
       "      <td>100</td>\n",
       "    </tr>\n",
       "    <tr>\n",
       "      <th>8549</th>\n",
       "      <td>3</td>\n",
       "      <td>100</td>\n",
       "      <td>31</td>\n",
       "      <td>1</td>\n",
       "      <td>4</td>\n",
       "      <td>1.5</td>\n",
       "      <td>1</td>\n",
       "      <td>3</td>\n",
       "      <td>2000.0</td>\n",
       "      <td>2</td>\n",
       "      <td>90</td>\n",
       "      <td>2</td>\n",
       "      <td>100</td>\n",
       "    </tr>\n",
       "  </tbody>\n",
       "</table>\n",
       "<p>8550 rows × 13 columns</p>\n",
       "</div>"
      ],
      "text/plain": [
       "      host_response_time  host_response_rate  neighbourhood  property_type  \\\n",
       "0                      2                 100             31              1   \n",
       "1                      2                 100             21              1   \n",
       "2                      1                 100             24              1   \n",
       "3                      2                 100             21              1   \n",
       "4                      1                 100             24             15   \n",
       "...                  ...                 ...            ...            ...   \n",
       "8545                   3                 100              5              1   \n",
       "8546                   3                 100              5              1   \n",
       "8547                   3                 100             32              1   \n",
       "8548                   3                 100             29              1   \n",
       "8549                   3                 100             31              1   \n",
       "\n",
       "      accommodates  bathrooms  bedrooms  beds  extra_people  minimum_nights  \\\n",
       "0                2        1.0         1     2           0.0               3   \n",
       "1                2        1.0         1     1        1070.0              28   \n",
       "2                2        1.0         0     1           0.0              28   \n",
       "3                2        1.0         1     1        1070.0              28   \n",
       "4                3        1.0         2     2         550.0              28   \n",
       "...            ...        ...       ...   ...           ...             ...   \n",
       "8545             9        1.5         3     5        1000.0               2   \n",
       "8546             7        1.5         3     4        1000.0               2   \n",
       "8547             7        1.5         2     4        1000.0               2   \n",
       "8548             6        1.5         2     3        1000.0               1   \n",
       "8549             4        1.5         1     3        2000.0               2   \n",
       "\n",
       "      maximum_nights  number_of_reviews  review_scores_rating  \n",
       "0                365                165                    95  \n",
       "1                180                113                    95  \n",
       "2                720                103                    95  \n",
       "3                180                103                    96  \n",
       "4                720                 44                    96  \n",
       "...              ...                ...                   ...  \n",
       "8545            1125                  1                   100  \n",
       "8546            1125                  2                   100  \n",
       "8547            1125                  1                   100  \n",
       "8548            1125                  1                   100  \n",
       "8549              90                  2                   100  \n",
       "\n",
       "[8550 rows x 13 columns]"
      ]
     },
     "execution_count": 39,
     "metadata": {},
     "output_type": "execute_result"
    }
   ],
   "source": [
    "data"
   ]
  },
  {
   "cell_type": "code",
   "execution_count": 40,
   "metadata": {},
   "outputs": [],
   "source": [
    "data_for_review_scores_rating = data"
   ]
  },
  {
   "cell_type": "code",
   "execution_count": 41,
   "metadata": {},
   "outputs": [
    {
     "data": {
      "text/plain": [
       "100"
      ]
     },
     "execution_count": 41,
     "metadata": {},
     "output_type": "execute_result"
    }
   ],
   "source": [
    "review_scores_rating.max()"
   ]
  },
  {
   "cell_type": "code",
   "execution_count": 42,
   "metadata": {},
   "outputs": [
    {
     "data": {
      "text/plain": [
       "20"
      ]
     },
     "execution_count": 42,
     "metadata": {},
     "output_type": "execute_result"
    }
   ],
   "source": [
    "review_scores_rating.min()"
   ]
  },
  {
   "cell_type": "code",
   "execution_count": 43,
   "metadata": {},
   "outputs": [
    {
     "data": {
      "text/plain": [
       "count    8550.000000\n",
       "mean       92.693801\n",
       "std         7.484677\n",
       "min        20.000000\n",
       "25%        90.000000\n",
       "50%        95.000000\n",
       "75%        98.000000\n",
       "max       100.000000\n",
       "Name: review_scores_rating, dtype: float64"
      ]
     },
     "execution_count": 43,
     "metadata": {},
     "output_type": "execute_result"
    }
   ],
   "source": [
    "data['review_scores_rating'].describe()"
   ]
  },
  {
   "cell_type": "markdown",
   "metadata": {},
   "source": [
    "Dari code: data ['review_scores_rating'].describe() kita bisa melihat bahwa review_score_rating 90 hanya ad pada quartile ke dua dan median dari review_score_rating adalah 95 dan meannya 92, . Dari data tersebut, kita dapat tahu bahwa mendapatkan review_rating dibawah 90 merupakan hal yang bisa dibilang biasa karena nilai yang dibawah 90 hanya 25%. "
   ]
  },
  {
   "cell_type": "markdown",
   "metadata": {},
   "source": [
    "Jadi kita akan map review_score menjadi :"
   ]
  },
  {
   "cell_type": "markdown",
   "metadata": {},
   "source": [
    "biasa/buruk : 0 - 85, bagus: 86 - 100"
   ]
  },
  {
   "cell_type": "code",
   "execution_count": 44,
   "metadata": {},
   "outputs": [],
   "source": [
    "for i,x in enumerate(data['review_scores_rating']):\n",
    "    if x>=0 and x<=85:\n",
    "        data.at[i,'review_scores_rating'] = 0\n",
    "    else:\n",
    "        data.at[i,'review_scores_rating'] = 1"
   ]
  },
  {
   "cell_type": "code",
   "execution_count": 45,
   "metadata": {},
   "outputs": [
    {
     "name": "stdout",
     "output_type": "stream",
     "text": [
      "1    7421\n",
      "0    1129\n",
      "Name: review_scores_rating, dtype: int64\n"
     ]
    }
   ],
   "source": [
    "count_category = pd.value_counts(data['review_scores_rating'],sort = True)\n",
    "print(count_category)"
   ]
  },
  {
   "cell_type": "markdown",
   "metadata": {},
   "source": [
    "Bisa dilihat bahwa class tidak terdistribusi dengan rata atau bisa dibilang imbalanced. Untuk membuat data menjadi balanced sehingga bisa di learn maka perlu dilakukan oversampling dan undersampling."
   ]
  },
  {
   "cell_type": "markdown",
   "metadata": {},
   "source": [
    "### Scaling"
   ]
  },
  {
   "cell_type": "code",
   "execution_count": 46,
   "metadata": {},
   "outputs": [
    {
     "data": {
      "text/plain": [
       "['host_response_rate',\n",
       " 'accommodates',\n",
       " 'bathrooms',\n",
       " 'bedrooms',\n",
       " 'beds',\n",
       " 'extra_people',\n",
       " 'minimum_nights',\n",
       " 'maximum_nights',\n",
       " 'number_of_reviews']"
      ]
     },
     "execution_count": 46,
     "metadata": {},
     "output_type": "execute_result"
    }
   ],
   "source": [
    "numerical"
   ]
  },
  {
   "cell_type": "code",
   "execution_count": 47,
   "metadata": {},
   "outputs": [
    {
     "data": {
      "text/plain": [
       "['host_response_time', 'neighbourhood', 'property_type']"
      ]
     },
     "execution_count": 47,
     "metadata": {},
     "output_type": "execute_result"
    }
   ],
   "source": [
    "categorical"
   ]
  },
  {
   "cell_type": "code",
   "execution_count": 48,
   "metadata": {},
   "outputs": [
    {
     "data": {
      "image/png": "[encoded data removed]",
      "text/plain": [
       "<Figure size 1440x720 with 9 Axes>"
      ]
     },
     "metadata": {
      "needs_background": "light"
     },
     "output_type": "display_data"
    }
   ],
   "source": [
    "from matplotlib import pyplot as plt\n",
    "import seaborn as sns\n",
    "from scipy import stats\n",
    "from scipy.stats import norm\n",
    "\n",
    "# melihat distribusi data\n",
    "f, axes = plt.subplots(3, 3, figsize=(20, 10), sharex=True)\n",
    "a = 0\n",
    "b = 0\n",
    "for x in  numerical:\n",
    "    sns.distplot(data[x], fit = norm, label=\"normal distribution\", kde=False, color=\"r\", ax=axes[a, b])\n",
    "    b+=1\n",
    "    if b>2:\n",
    "        b=0\n",
    "        a+=1"
   ]
  },
  {
   "cell_type": "markdown",
   "metadata": {},
   "source": [
    "Distribusi data-data kurang terlihat jelas dan juga karena range data berbeda-beda sehingga perlu dilakukan scaling"
   ]
  },
  {
   "cell_type": "code",
   "execution_count": 49,
   "metadata": {},
   "outputs": [],
   "source": [
    "from sklearn import preprocessing \n",
    "\n",
    "scaler = preprocessing.StandardScaler()\n",
    "data[['host_response_rate',\n",
    " 'accommodates',\n",
    " 'bathrooms',\n",
    " 'bedrooms',\n",
    " 'beds',\n",
    " 'extra_people',\n",
    " 'minimum_nights',\n",
    " 'maximum_nights',\n",
    " 'number_of_reviews']] = scaler.fit_transform(data[numerical])"
   ]
  },
  {
   "cell_type": "code",
   "execution_count": 50,
   "metadata": {},
   "outputs": [
    {
     "data": {
      "image/png": "[encoded data removed]",
      "text/plain": [
       "<Figure size 1440x720 with 9 Axes>"
      ]
     },
     "metadata": {
      "needs_background": "light"
     },
     "output_type": "display_data"
    }
   ],
   "source": [
    "# melihat distribusi data\n",
    "f, axes = plt.subplots(3, 3, figsize=(20, 10), sharex=True)\n",
    "a = 0\n",
    "b = 0\n",
    "for x in  numerical:\n",
    "    sns.distplot(data[x], fit = norm, label=\"normal distribution\", kde=False, color=\"r\", ax=axes[a, b])\n",
    "    b+=1\n",
    "    if b>2:\n",
    "        b=0\n",
    "        a+=1"
   ]
  },
  {
   "cell_type": "markdown",
   "metadata": {},
   "source": [
    "Setelah dilakukan scaling menggunakan standard scaler distribusi terlihat lebih jelas walaupun distribusi-distribusi tersebut tidak semuanya mirip dengan gaussian distribution."
   ]
  },
  {
   "cell_type": "markdown",
   "metadata": {},
   "source": [
    "# Split data"
   ]
  },
  {
   "cell_type": "code",
   "execution_count": 51,
   "metadata": {},
   "outputs": [],
   "source": [
    "from sklearn.model_selection import train_test_split\n",
    "\n",
    "x_train,x_test,y_train,y_test = train_test_split(\n",
    "    data.loc[:,:'number_of_reviews'], \n",
    "    data['review_scores_rating'],test_size=0.2,shuffle = True,random_state=10)"
   ]
  },
  {
   "cell_type": "code",
   "execution_count": 52,
   "metadata": {},
   "outputs": [
    {
     "name": "stdout",
     "output_type": "stream",
     "text": [
      "1    5961\n",
      "0     879\n",
      "Name: review_scores_rating, dtype: int64\n"
     ]
    }
   ],
   "source": [
    "count_category = pd.value_counts(y_train,sort = True)\n",
    "print(count_category)"
   ]
  },
  {
   "cell_type": "markdown",
   "metadata": {},
   "source": [
    "# Lakukan Undersampling dan Oversampling"
   ]
  },
  {
   "cell_type": "markdown",
   "metadata": {},
   "source": [
    "Melakukan undersampling dan oversampling karena data train kita tidak balance"
   ]
  },
  {
   "cell_type": "code",
   "execution_count": 53,
   "metadata": {},
   "outputs": [],
   "source": [
    "from imblearn.under_sampling import RandomUnderSampler\n",
    "from imblearn.under_sampling import TomekLinks\n",
    "# rus = RandomUnderSampler()\n",
    "tl = TomekLinks()"
   ]
  },
  {
   "cell_type": "code",
   "execution_count": 54,
   "metadata": {},
   "outputs": [],
   "source": [
    "x_train, y_train = tl.fit_resample(x_train,y_train)"
   ]
  },
  {
   "cell_type": "code",
   "execution_count": 55,
   "metadata": {},
   "outputs": [
    {
     "name": "stdout",
     "output_type": "stream",
     "text": [
      "1    5744\n",
      "0     879\n",
      "Name: review_scores_rating, dtype: int64\n"
     ]
    }
   ],
   "source": [
    "count_category = pd.value_counts(y_train,sort = True)\n",
    "print(count_category)"
   ]
  },
  {
   "cell_type": "markdown",
   "metadata": {},
   "source": [
    "Setelah melakukan undersampling dengan algoritma Tomek Links ternyata masih imbalance sehingga saya akan melakukan oversampling terhadap class minor dengan algoritma SMOTE"
   ]
  },
  {
   "cell_type": "code",
   "execution_count": 56,
   "metadata": {},
   "outputs": [],
   "source": [
    "from imblearn.over_sampling import SMOTE\n",
    "\n",
    "sm = SMOTE(sampling_strategy = {0: 1500})\n",
    "x_train, y_train = sm.fit_resample(x_train,y_train)"
   ]
  },
  {
   "cell_type": "markdown",
   "metadata": {},
   "source": [
    "saya akan buat class 0 hingga memiliki 1500 supaya data sintesis atau palsu tidak lebih banyak dari data aslinya."
   ]
  },
  {
   "cell_type": "code",
   "execution_count": 57,
   "metadata": {},
   "outputs": [
    {
     "name": "stdout",
     "output_type": "stream",
     "text": [
      "1    5744\n",
      "0    1500\n",
      "Name: review_scores_rating, dtype: int64\n"
     ]
    }
   ],
   "source": [
    "count_category = pd.value_counts(y_train,sort = True)\n",
    "print(count_category)"
   ]
  },
  {
   "cell_type": "markdown",
   "metadata": {},
   "source": [
    "# Feature Selection untuk data yang akan digunakan untuk mengklasifikasi review_scores_rating"
   ]
  },
  {
   "cell_type": "markdown",
   "metadata": {},
   "source": [
    "### Menggunakan Spearman Correlation untuk menyeleksi fitur numerik mana yang akan dipakai\n",
    "Memilih data yang hasil p-value ny lebih kecil dari 0.05 dan koefisien spearman lebih besar dari 0.05 dan lebih kecil dari -0.05 dimana kalau koefisien korelasi ny semakin positif artinya data target akan sebanding dengan fitur sementara jika semakin negatif koefisien korelasinya maka akan berbanding terbalik dengan data target. Sementara itu p - value dipakai untuk mengindikasi kan bahwa peluang untuk mendapatkan hasil yang setidaknya sama ekstrim dengan variabel yang diamati. Jika p value makin kecil maka mengindikasikan bahwa nilai ekstrim tersebut dapat muncul tetapi kemungkinan ny kecil. "
   ]
  },
  {
   "cell_type": "code",
   "execution_count": 58,
   "metadata": {},
   "outputs": [
    {
     "name": "stdout",
     "output_type": "stream",
     "text": [
      "Data numerical yang akan dipilih menjadi fitur:\n",
      "===============================================\n",
      "accommodates\n",
      "coef: 0.11630642620348125, p_val : 3.0503557492032363e-23\n",
      "\n",
      "bedrooms\n",
      "coef: 0.08314397759455447, p_val : 1.3648011972024518e-12\n",
      "\n",
      "beds\n",
      "coef: 0.10849393363353128, p_val : 2.0471501224415622e-20\n",
      "\n",
      "extra_people\n",
      "coef: 0.1276343665990038, p_val : 1.0798168627518423e-27\n",
      "\n",
      "minimum_nights\n",
      "coef: 0.11994365852921, p_val : 1.2612169746231789e-24\n",
      "\n",
      "number_of_reviews\n",
      "coef: 0.1857521879060252, p_val : 3.041495692779493e-57\n",
      "\n"
     ]
    }
   ],
   "source": [
    "numerical_selected = []\n",
    "print(\"Data numerical yang akan dipilih menjadi fitur:\")\n",
    "print(\"===============================================\")\n",
    "for i,x in enumerate(numerical):\n",
    "    coeff , p_val = stats.spearmanr(x_train[x],y_train)\n",
    "    if (coeff > 0.05 or coeff < -0.05) and (p_val<=0.05):\n",
    "        print(x)\n",
    "        print('coef: {}, p_val : {}'.format(coeff,p_val))\n",
    "        numerical_selected.append(x)\n",
    "        print()"
   ]
  },
  {
   "cell_type": "markdown",
   "metadata": {},
   "source": [
    "### Menggunakan Chi Square test untuk menyeleksi fitur categorical mana yang akan dipakai"
   ]
  },
  {
   "cell_type": "markdown",
   "metadata": {},
   "source": [
    "Test ini cocok untuk data kategori karena dihitung berdasarkan frekuensi nya."
   ]
  },
  {
   "cell_type": "markdown",
   "metadata": {},
   "source": [
    "Memilih data yang hasil p-value ny lebih kecil dari 0.05. p - value dipakai untuk mengindikasi kan bahwa peluang untuk mendapatkan hasil yang setidaknya sama ekstrim dengan variabel yang diamati. Jika p value makin kecil maka mengindikasikan bahwa nilai ekstrim tersebut dapat muncul tetapi kemungkinan ny kecil. "
   ]
  },
  {
   "cell_type": "code",
   "execution_count": 59,
   "metadata": {},
   "outputs": [],
   "source": [
    "from sklearn.feature_selection import chi2\n",
    "\n",
    "chi2, p_val = chi2(x_train[categorical], y_train)"
   ]
  },
  {
   "cell_type": "code",
   "execution_count": 60,
   "metadata": {},
   "outputs": [
    {
     "data": {
      "text/plain": [
       "array([9.57968174e-02, 5.46533135e-13, 2.94099631e-41])"
      ]
     },
     "execution_count": 60,
     "metadata": {},
     "output_type": "execute_result"
    }
   ],
   "source": [
    "p_val"
   ]
  },
  {
   "cell_type": "code",
   "execution_count": 61,
   "metadata": {},
   "outputs": [],
   "source": [
    "list_of_index = []\n",
    "for i,x in enumerate(p_val):\n",
    "    if x<=0.05:\n",
    "        list_of_index.append(i)"
   ]
  },
  {
   "cell_type": "code",
   "execution_count": 62,
   "metadata": {},
   "outputs": [
    {
     "name": "stdout",
     "output_type": "stream",
     "text": [
      "Data categorical yang akan dipilih menjadi fitur:\n",
      "===============================================\n",
      "neighbourhood\n",
      "property_type\n"
     ]
    }
   ],
   "source": [
    "categorical_selected = []\n",
    "print(\"Data categorical yang akan dipilih menjadi fitur:\")\n",
    "print(\"===============================================\")\n",
    "for i,x in enumerate(categorical):\n",
    "    if i in list_of_index:\n",
    "        print(x)\n",
    "        categorical_selected.append(x)"
   ]
  },
  {
   "cell_type": "code",
   "execution_count": 63,
   "metadata": {},
   "outputs": [],
   "source": [
    "selected_features = []\n",
    "for x in numerical_selected:\n",
    "    selected_features.append(x)\n",
    "\n",
    "for x in categorical_selected:\n",
    "    selected_features.append(x)"
   ]
  },
  {
   "cell_type": "code",
   "execution_count": 64,
   "metadata": {},
   "outputs": [
    {
     "data": {
      "text/plain": [
       "['accommodates',\n",
       " 'bedrooms',\n",
       " 'beds',\n",
       " 'extra_people',\n",
       " 'minimum_nights',\n",
       " 'number_of_reviews',\n",
       " 'neighbourhood',\n",
       " 'property_type']"
      ]
     },
     "execution_count": 64,
     "metadata": {},
     "output_type": "execute_result"
    }
   ],
   "source": [
    "selected_features"
   ]
  },
  {
   "cell_type": "code",
   "execution_count": 65,
   "metadata": {},
   "outputs": [
    {
     "data": {
      "text/html": [
       "<div>\n",
       "<style scoped>\n",
       "    .dataframe tbody tr th:only-of-type {\n",
       "        vertical-align: middle;\n",
       "    }\n",
       "\n",
       "    .dataframe tbody tr th {\n",
       "        vertical-align: top;\n",
       "    }\n",
       "\n",
       "    .dataframe thead th {\n",
       "        text-align: right;\n",
       "    }\n",
       "</style>\n",
       "<table border=\"1\" class=\"dataframe\">\n",
       "  <thead>\n",
       "    <tr style=\"text-align: right;\">\n",
       "      <th></th>\n",
       "      <th>host_response_time</th>\n",
       "      <th>host_response_rate</th>\n",
       "      <th>neighbourhood</th>\n",
       "      <th>property_type</th>\n",
       "      <th>accommodates</th>\n",
       "      <th>bathrooms</th>\n",
       "      <th>bedrooms</th>\n",
       "      <th>beds</th>\n",
       "      <th>extra_people</th>\n",
       "      <th>minimum_nights</th>\n",
       "      <th>maximum_nights</th>\n",
       "      <th>number_of_reviews</th>\n",
       "    </tr>\n",
       "  </thead>\n",
       "  <tbody>\n",
       "    <tr>\n",
       "      <th>0</th>\n",
       "      <td>3</td>\n",
       "      <td>0.265481</td>\n",
       "      <td>5</td>\n",
       "      <td>1</td>\n",
       "      <td>0.457419</td>\n",
       "      <td>-0.301514</td>\n",
       "      <td>-0.231654</td>\n",
       "      <td>0.477061</td>\n",
       "      <td>-0.001097</td>\n",
       "      <td>-0.264767</td>\n",
       "      <td>-0.635432</td>\n",
       "      <td>-0.336532</td>\n",
       "    </tr>\n",
       "    <tr>\n",
       "      <th>1</th>\n",
       "      <td>2</td>\n",
       "      <td>0.265481</td>\n",
       "      <td>5</td>\n",
       "      <td>1</td>\n",
       "      <td>-0.797896</td>\n",
       "      <td>-0.301514</td>\n",
       "      <td>-0.889675</td>\n",
       "      <td>-0.285916</td>\n",
       "      <td>-0.985562</td>\n",
       "      <td>-0.264767</td>\n",
       "      <td>-1.334781</td>\n",
       "      <td>-0.427565</td>\n",
       "    </tr>\n",
       "    <tr>\n",
       "      <th>2</th>\n",
       "      <td>3</td>\n",
       "      <td>0.265481</td>\n",
       "      <td>26</td>\n",
       "      <td>1</td>\n",
       "      <td>-0.484067</td>\n",
       "      <td>-0.301514</td>\n",
       "      <td>-0.231654</td>\n",
       "      <td>-0.285916</td>\n",
       "      <td>0.327058</td>\n",
       "      <td>-0.151873</td>\n",
       "      <td>-1.188648</td>\n",
       "      <td>-0.518598</td>\n",
       "    </tr>\n",
       "    <tr>\n",
       "      <th>3</th>\n",
       "      <td>3</td>\n",
       "      <td>0.265481</td>\n",
       "      <td>31</td>\n",
       "      <td>1</td>\n",
       "      <td>-0.170238</td>\n",
       "      <td>-0.301514</td>\n",
       "      <td>-0.231654</td>\n",
       "      <td>-0.285916</td>\n",
       "      <td>-0.281341</td>\n",
       "      <td>-0.151873</td>\n",
       "      <td>0.951152</td>\n",
       "      <td>2.212392</td>\n",
       "    </tr>\n",
       "    <tr>\n",
       "      <th>4</th>\n",
       "      <td>3</td>\n",
       "      <td>-0.196405</td>\n",
       "      <td>33</td>\n",
       "      <td>1</td>\n",
       "      <td>-0.484067</td>\n",
       "      <td>-0.301514</td>\n",
       "      <td>-0.231654</td>\n",
       "      <td>-0.285916</td>\n",
       "      <td>-0.591776</td>\n",
       "      <td>0.186811</td>\n",
       "      <td>-0.635432</td>\n",
       "      <td>-0.655148</td>\n",
       "    </tr>\n",
       "    <tr>\n",
       "      <th>...</th>\n",
       "      <td>...</td>\n",
       "      <td>...</td>\n",
       "      <td>...</td>\n",
       "      <td>...</td>\n",
       "      <td>...</td>\n",
       "      <td>...</td>\n",
       "      <td>...</td>\n",
       "      <td>...</td>\n",
       "      <td>...</td>\n",
       "      <td>...</td>\n",
       "      <td>...</td>\n",
       "      <td>...</td>\n",
       "    </tr>\n",
       "    <tr>\n",
       "      <th>7239</th>\n",
       "      <td>3</td>\n",
       "      <td>0.265481</td>\n",
       "      <td>31</td>\n",
       "      <td>1</td>\n",
       "      <td>0.360867</td>\n",
       "      <td>-0.301514</td>\n",
       "      <td>-0.231654</td>\n",
       "      <td>-0.916832</td>\n",
       "      <td>0.327058</td>\n",
       "      <td>-0.225686</td>\n",
       "      <td>0.949787</td>\n",
       "      <td>-0.022309</td>\n",
       "    </tr>\n",
       "    <tr>\n",
       "      <th>7240</th>\n",
       "      <td>1</td>\n",
       "      <td>-2.050331</td>\n",
       "      <td>13</td>\n",
       "      <td>1</td>\n",
       "      <td>-0.658560</td>\n",
       "      <td>-0.301514</td>\n",
       "      <td>-0.231654</td>\n",
       "      <td>-0.483782</td>\n",
       "      <td>-0.669660</td>\n",
       "      <td>-0.264767</td>\n",
       "      <td>0.951152</td>\n",
       "      <td>-0.723422</td>\n",
       "    </tr>\n",
       "    <tr>\n",
       "      <th>7241</th>\n",
       "      <td>3</td>\n",
       "      <td>0.265481</td>\n",
       "      <td>13</td>\n",
       "      <td>1</td>\n",
       "      <td>-0.797896</td>\n",
       "      <td>-0.301514</td>\n",
       "      <td>-0.231654</td>\n",
       "      <td>-0.428743</td>\n",
       "      <td>-0.985562</td>\n",
       "      <td>-0.264767</td>\n",
       "      <td>-0.645870</td>\n",
       "      <td>-0.723422</td>\n",
       "    </tr>\n",
       "    <tr>\n",
       "      <th>7242</th>\n",
       "      <td>3</td>\n",
       "      <td>0.265481</td>\n",
       "      <td>13</td>\n",
       "      <td>1</td>\n",
       "      <td>-0.797896</td>\n",
       "      <td>-0.301514</td>\n",
       "      <td>-0.231654</td>\n",
       "      <td>-0.589099</td>\n",
       "      <td>-0.985562</td>\n",
       "      <td>-0.264767</td>\n",
       "      <td>-0.645870</td>\n",
       "      <td>-0.669162</td>\n",
       "    </tr>\n",
       "    <tr>\n",
       "      <th>7243</th>\n",
       "      <td>2</td>\n",
       "      <td>0.265481</td>\n",
       "      <td>20</td>\n",
       "      <td>1</td>\n",
       "      <td>-0.838656</td>\n",
       "      <td>-0.179783</td>\n",
       "      <td>-0.231654</td>\n",
       "      <td>-0.999345</td>\n",
       "      <td>-0.671474</td>\n",
       "      <td>1.437462</td>\n",
       "      <td>0.951152</td>\n",
       "      <td>-0.703620</td>\n",
       "    </tr>\n",
       "  </tbody>\n",
       "</table>\n",
       "<p>7244 rows × 12 columns</p>\n",
       "</div>"
      ],
      "text/plain": [
       "      host_response_time  host_response_rate  neighbourhood  property_type  \\\n",
       "0                      3            0.265481              5              1   \n",
       "1                      2            0.265481              5              1   \n",
       "2                      3            0.265481             26              1   \n",
       "3                      3            0.265481             31              1   \n",
       "4                      3           -0.196405             33              1   \n",
       "...                  ...                 ...            ...            ...   \n",
       "7239                   3            0.265481             31              1   \n",
       "7240                   1           -2.050331             13              1   \n",
       "7241                   3            0.265481             13              1   \n",
       "7242                   3            0.265481             13              1   \n",
       "7243                   2            0.265481             20              1   \n",
       "\n",
       "      accommodates  bathrooms  bedrooms      beds  extra_people  \\\n",
       "0         0.457419  -0.301514 -0.231654  0.477061     -0.001097   \n",
       "1        -0.797896  -0.301514 -0.889675 -0.285916     -0.985562   \n",
       "2        -0.484067  -0.301514 -0.231654 -0.285916      0.327058   \n",
       "3        -0.170238  -0.301514 -0.231654 -0.285916     -0.281341   \n",
       "4        -0.484067  -0.301514 -0.231654 -0.285916     -0.591776   \n",
       "...            ...        ...       ...       ...           ...   \n",
       "7239      0.360867  -0.301514 -0.231654 -0.916832      0.327058   \n",
       "7240     -0.658560  -0.301514 -0.231654 -0.483782     -0.669660   \n",
       "7241     -0.797896  -0.301514 -0.231654 -0.428743     -0.985562   \n",
       "7242     -0.797896  -0.301514 -0.231654 -0.589099     -0.985562   \n",
       "7243     -0.838656  -0.179783 -0.231654 -0.999345     -0.671474   \n",
       "\n",
       "      minimum_nights  maximum_nights  number_of_reviews  \n",
       "0          -0.264767       -0.635432          -0.336532  \n",
       "1          -0.264767       -1.334781          -0.427565  \n",
       "2          -0.151873       -1.188648          -0.518598  \n",
       "3          -0.151873        0.951152           2.212392  \n",
       "4           0.186811       -0.635432          -0.655148  \n",
       "...              ...             ...                ...  \n",
       "7239       -0.225686        0.949787          -0.022309  \n",
       "7240       -0.264767        0.951152          -0.723422  \n",
       "7241       -0.264767       -0.645870          -0.723422  \n",
       "7242       -0.264767       -0.645870          -0.669162  \n",
       "7243        1.437462        0.951152          -0.703620  \n",
       "\n",
       "[7244 rows x 12 columns]"
      ]
     },
     "execution_count": 65,
     "metadata": {},
     "output_type": "execute_result"
    }
   ],
   "source": [
    "x_train"
   ]
  },
  {
   "cell_type": "code",
   "execution_count": 66,
   "metadata": {},
   "outputs": [],
   "source": [
    "new_x_train = x_train[selected_features]\n",
    "new_x_test = x_test[selected_features]"
   ]
  },
  {
   "cell_type": "code",
   "execution_count": 67,
   "metadata": {},
   "outputs": [],
   "source": [
    "frames = [new_x_train,new_x_test]\n",
    "\n",
    "train_test_union =  pd.concat(frames)"
   ]
  },
  {
   "cell_type": "markdown",
   "metadata": {},
   "source": [
    "# One Hot Encode"
   ]
  },
  {
   "cell_type": "markdown",
   "metadata": {},
   "source": [
    "Melakukan one hot encoding karena category yang di label encode tidak menampilkan tingkatan sehingga harus di one hot encode. Jika kita tidak melakukan one hot encoding maka model akan salah mengartikan label karena label dari label encoder merupakan angka 0 - (n-1) sehingga dapat diartikan sebagai tingkatan atau bobot jika tidak di one hot encode."
   ]
  },
  {
   "cell_type": "code",
   "execution_count": 68,
   "metadata": {},
   "outputs": [],
   "source": [
    "one_hot = preprocessing.OneHotEncoder(sparse = False) \n",
    "for x in categorical_selected:\n",
    "    res = one_hot.fit_transform(train_test_union[[x]]).astype(int)\n",
    "    for i in range(res.shape[1]):\n",
    "        column_name = x + str(i)\n",
    "        train_test_union.insert(len(train_test_union.columns), column_name, res.T[i])\n",
    "    train_test_union.drop(x, axis = 1,inplace = True)"
   ]
  },
  {
   "cell_type": "code",
   "execution_count": 69,
   "metadata": {},
   "outputs": [],
   "source": [
    "new_x_train = train_test_union.iloc[0:new_x_train.shape[0],:]\n",
    "new_x_train.reset_index(drop = True,inplace = True)\n",
    "new_x_test = train_test_union.iloc[new_x_train.shape[0]:,:]\n",
    "new_x_test.reset_index(drop=True,inplace = True)"
   ]
  },
  {
   "cell_type": "code",
   "execution_count": 70,
   "metadata": {},
   "outputs": [
    {
     "data": {
      "text/html": [
       "<div>\n",
       "<style scoped>\n",
       "    .dataframe tbody tr th:only-of-type {\n",
       "        vertical-align: middle;\n",
       "    }\n",
       "\n",
       "    .dataframe tbody tr th {\n",
       "        vertical-align: top;\n",
       "    }\n",
       "\n",
       "    .dataframe thead th {\n",
       "        text-align: right;\n",
       "    }\n",
       "</style>\n",
       "<table border=\"1\" class=\"dataframe\">\n",
       "  <thead>\n",
       "    <tr style=\"text-align: right;\">\n",
       "      <th></th>\n",
       "      <th>accommodates</th>\n",
       "      <th>bedrooms</th>\n",
       "      <th>beds</th>\n",
       "      <th>extra_people</th>\n",
       "      <th>minimum_nights</th>\n",
       "      <th>number_of_reviews</th>\n",
       "      <th>neighbourhood0</th>\n",
       "      <th>neighbourhood1</th>\n",
       "      <th>neighbourhood2</th>\n",
       "      <th>neighbourhood3</th>\n",
       "      <th>...</th>\n",
       "      <th>property_type14</th>\n",
       "      <th>property_type15</th>\n",
       "      <th>property_type16</th>\n",
       "      <th>property_type17</th>\n",
       "      <th>property_type18</th>\n",
       "      <th>property_type19</th>\n",
       "      <th>property_type20</th>\n",
       "      <th>property_type21</th>\n",
       "      <th>property_type22</th>\n",
       "      <th>property_type23</th>\n",
       "    </tr>\n",
       "  </thead>\n",
       "  <tbody>\n",
       "    <tr>\n",
       "      <th>0</th>\n",
       "      <td>0.457419</td>\n",
       "      <td>-0.231654</td>\n",
       "      <td>0.477061</td>\n",
       "      <td>-0.001097</td>\n",
       "      <td>-0.264767</td>\n",
       "      <td>-0.336532</td>\n",
       "      <td>0</td>\n",
       "      <td>0</td>\n",
       "      <td>0</td>\n",
       "      <td>0</td>\n",
       "      <td>...</td>\n",
       "      <td>0</td>\n",
       "      <td>0</td>\n",
       "      <td>0</td>\n",
       "      <td>0</td>\n",
       "      <td>0</td>\n",
       "      <td>0</td>\n",
       "      <td>0</td>\n",
       "      <td>0</td>\n",
       "      <td>0</td>\n",
       "      <td>0</td>\n",
       "    </tr>\n",
       "    <tr>\n",
       "      <th>1</th>\n",
       "      <td>-0.797896</td>\n",
       "      <td>-0.889675</td>\n",
       "      <td>-0.285916</td>\n",
       "      <td>-0.985562</td>\n",
       "      <td>-0.264767</td>\n",
       "      <td>-0.427565</td>\n",
       "      <td>0</td>\n",
       "      <td>0</td>\n",
       "      <td>0</td>\n",
       "      <td>0</td>\n",
       "      <td>...</td>\n",
       "      <td>0</td>\n",
       "      <td>0</td>\n",
       "      <td>0</td>\n",
       "      <td>0</td>\n",
       "      <td>0</td>\n",
       "      <td>0</td>\n",
       "      <td>0</td>\n",
       "      <td>0</td>\n",
       "      <td>0</td>\n",
       "      <td>0</td>\n",
       "    </tr>\n",
       "    <tr>\n",
       "      <th>2</th>\n",
       "      <td>-0.484067</td>\n",
       "      <td>-0.231654</td>\n",
       "      <td>-0.285916</td>\n",
       "      <td>0.327058</td>\n",
       "      <td>-0.151873</td>\n",
       "      <td>-0.518598</td>\n",
       "      <td>0</td>\n",
       "      <td>0</td>\n",
       "      <td>0</td>\n",
       "      <td>0</td>\n",
       "      <td>...</td>\n",
       "      <td>0</td>\n",
       "      <td>0</td>\n",
       "      <td>0</td>\n",
       "      <td>0</td>\n",
       "      <td>0</td>\n",
       "      <td>0</td>\n",
       "      <td>0</td>\n",
       "      <td>0</td>\n",
       "      <td>0</td>\n",
       "      <td>0</td>\n",
       "    </tr>\n",
       "    <tr>\n",
       "      <th>3</th>\n",
       "      <td>-0.170238</td>\n",
       "      <td>-0.231654</td>\n",
       "      <td>-0.285916</td>\n",
       "      <td>-0.281341</td>\n",
       "      <td>-0.151873</td>\n",
       "      <td>2.212392</td>\n",
       "      <td>0</td>\n",
       "      <td>0</td>\n",
       "      <td>0</td>\n",
       "      <td>0</td>\n",
       "      <td>...</td>\n",
       "      <td>0</td>\n",
       "      <td>0</td>\n",
       "      <td>0</td>\n",
       "      <td>0</td>\n",
       "      <td>0</td>\n",
       "      <td>0</td>\n",
       "      <td>0</td>\n",
       "      <td>0</td>\n",
       "      <td>0</td>\n",
       "      <td>0</td>\n",
       "    </tr>\n",
       "    <tr>\n",
       "      <th>4</th>\n",
       "      <td>-0.484067</td>\n",
       "      <td>-0.231654</td>\n",
       "      <td>-0.285916</td>\n",
       "      <td>-0.591776</td>\n",
       "      <td>0.186811</td>\n",
       "      <td>-0.655148</td>\n",
       "      <td>0</td>\n",
       "      <td>0</td>\n",
       "      <td>0</td>\n",
       "      <td>0</td>\n",
       "      <td>...</td>\n",
       "      <td>0</td>\n",
       "      <td>0</td>\n",
       "      <td>0</td>\n",
       "      <td>0</td>\n",
       "      <td>0</td>\n",
       "      <td>0</td>\n",
       "      <td>0</td>\n",
       "      <td>0</td>\n",
       "      <td>0</td>\n",
       "      <td>0</td>\n",
       "    </tr>\n",
       "    <tr>\n",
       "      <th>...</th>\n",
       "      <td>...</td>\n",
       "      <td>...</td>\n",
       "      <td>...</td>\n",
       "      <td>...</td>\n",
       "      <td>...</td>\n",
       "      <td>...</td>\n",
       "      <td>...</td>\n",
       "      <td>...</td>\n",
       "      <td>...</td>\n",
       "      <td>...</td>\n",
       "      <td>...</td>\n",
       "      <td>...</td>\n",
       "      <td>...</td>\n",
       "      <td>...</td>\n",
       "      <td>...</td>\n",
       "      <td>...</td>\n",
       "      <td>...</td>\n",
       "      <td>...</td>\n",
       "      <td>...</td>\n",
       "      <td>...</td>\n",
       "      <td>...</td>\n",
       "    </tr>\n",
       "    <tr>\n",
       "      <th>7239</th>\n",
       "      <td>0.360867</td>\n",
       "      <td>-0.231654</td>\n",
       "      <td>-0.916832</td>\n",
       "      <td>0.327058</td>\n",
       "      <td>-0.225686</td>\n",
       "      <td>-0.022309</td>\n",
       "      <td>0</td>\n",
       "      <td>0</td>\n",
       "      <td>0</td>\n",
       "      <td>0</td>\n",
       "      <td>...</td>\n",
       "      <td>0</td>\n",
       "      <td>0</td>\n",
       "      <td>0</td>\n",
       "      <td>0</td>\n",
       "      <td>0</td>\n",
       "      <td>0</td>\n",
       "      <td>0</td>\n",
       "      <td>0</td>\n",
       "      <td>0</td>\n",
       "      <td>0</td>\n",
       "    </tr>\n",
       "    <tr>\n",
       "      <th>7240</th>\n",
       "      <td>-0.658560</td>\n",
       "      <td>-0.231654</td>\n",
       "      <td>-0.483782</td>\n",
       "      <td>-0.669660</td>\n",
       "      <td>-0.264767</td>\n",
       "      <td>-0.723422</td>\n",
       "      <td>0</td>\n",
       "      <td>0</td>\n",
       "      <td>0</td>\n",
       "      <td>0</td>\n",
       "      <td>...</td>\n",
       "      <td>0</td>\n",
       "      <td>0</td>\n",
       "      <td>0</td>\n",
       "      <td>0</td>\n",
       "      <td>0</td>\n",
       "      <td>0</td>\n",
       "      <td>0</td>\n",
       "      <td>0</td>\n",
       "      <td>0</td>\n",
       "      <td>0</td>\n",
       "    </tr>\n",
       "    <tr>\n",
       "      <th>7241</th>\n",
       "      <td>-0.797896</td>\n",
       "      <td>-0.231654</td>\n",
       "      <td>-0.428743</td>\n",
       "      <td>-0.985562</td>\n",
       "      <td>-0.264767</td>\n",
       "      <td>-0.723422</td>\n",
       "      <td>0</td>\n",
       "      <td>0</td>\n",
       "      <td>0</td>\n",
       "      <td>0</td>\n",
       "      <td>...</td>\n",
       "      <td>0</td>\n",
       "      <td>0</td>\n",
       "      <td>0</td>\n",
       "      <td>0</td>\n",
       "      <td>0</td>\n",
       "      <td>0</td>\n",
       "      <td>0</td>\n",
       "      <td>0</td>\n",
       "      <td>0</td>\n",
       "      <td>0</td>\n",
       "    </tr>\n",
       "    <tr>\n",
       "      <th>7242</th>\n",
       "      <td>-0.797896</td>\n",
       "      <td>-0.231654</td>\n",
       "      <td>-0.589099</td>\n",
       "      <td>-0.985562</td>\n",
       "      <td>-0.264767</td>\n",
       "      <td>-0.669162</td>\n",
       "      <td>0</td>\n",
       "      <td>0</td>\n",
       "      <td>0</td>\n",
       "      <td>0</td>\n",
       "      <td>...</td>\n",
       "      <td>0</td>\n",
       "      <td>0</td>\n",
       "      <td>0</td>\n",
       "      <td>0</td>\n",
       "      <td>0</td>\n",
       "      <td>0</td>\n",
       "      <td>0</td>\n",
       "      <td>0</td>\n",
       "      <td>0</td>\n",
       "      <td>0</td>\n",
       "    </tr>\n",
       "    <tr>\n",
       "      <th>7243</th>\n",
       "      <td>-0.838656</td>\n",
       "      <td>-0.231654</td>\n",
       "      <td>-0.999345</td>\n",
       "      <td>-0.671474</td>\n",
       "      <td>1.437462</td>\n",
       "      <td>-0.703620</td>\n",
       "      <td>0</td>\n",
       "      <td>0</td>\n",
       "      <td>0</td>\n",
       "      <td>0</td>\n",
       "      <td>...</td>\n",
       "      <td>0</td>\n",
       "      <td>0</td>\n",
       "      <td>0</td>\n",
       "      <td>0</td>\n",
       "      <td>0</td>\n",
       "      <td>0</td>\n",
       "      <td>0</td>\n",
       "      <td>0</td>\n",
       "      <td>0</td>\n",
       "      <td>0</td>\n",
       "    </tr>\n",
       "  </tbody>\n",
       "</table>\n",
       "<p>7244 rows × 66 columns</p>\n",
       "</div>"
      ],
      "text/plain": [
       "      accommodates  bedrooms      beds  extra_people  minimum_nights  \\\n",
       "0         0.457419 -0.231654  0.477061     -0.001097       -0.264767   \n",
       "1        -0.797896 -0.889675 -0.285916     -0.985562       -0.264767   \n",
       "2        -0.484067 -0.231654 -0.285916      0.327058       -0.151873   \n",
       "3        -0.170238 -0.231654 -0.285916     -0.281341       -0.151873   \n",
       "4        -0.484067 -0.231654 -0.285916     -0.591776        0.186811   \n",
       "...            ...       ...       ...           ...             ...   \n",
       "7239      0.360867 -0.231654 -0.916832      0.327058       -0.225686   \n",
       "7240     -0.658560 -0.231654 -0.483782     -0.669660       -0.264767   \n",
       "7241     -0.797896 -0.231654 -0.428743     -0.985562       -0.264767   \n",
       "7242     -0.797896 -0.231654 -0.589099     -0.985562       -0.264767   \n",
       "7243     -0.838656 -0.231654 -0.999345     -0.671474        1.437462   \n",
       "\n",
       "      number_of_reviews  neighbourhood0  neighbourhood1  neighbourhood2  \\\n",
       "0             -0.336532               0               0               0   \n",
       "1             -0.427565               0               0               0   \n",
       "2             -0.518598               0               0               0   \n",
       "3              2.212392               0               0               0   \n",
       "4             -0.655148               0               0               0   \n",
       "...                 ...             ...             ...             ...   \n",
       "7239          -0.022309               0               0               0   \n",
       "7240          -0.723422               0               0               0   \n",
       "7241          -0.723422               0               0               0   \n",
       "7242          -0.669162               0               0               0   \n",
       "7243          -0.703620               0               0               0   \n",
       "\n",
       "      neighbourhood3  ...  property_type14  property_type15  property_type16  \\\n",
       "0                  0  ...                0                0                0   \n",
       "1                  0  ...                0                0                0   \n",
       "2                  0  ...                0                0                0   \n",
       "3                  0  ...                0                0                0   \n",
       "4                  0  ...                0                0                0   \n",
       "...              ...  ...              ...              ...              ...   \n",
       "7239               0  ...                0                0                0   \n",
       "7240               0  ...                0                0                0   \n",
       "7241               0  ...                0                0                0   \n",
       "7242               0  ...                0                0                0   \n",
       "7243               0  ...                0                0                0   \n",
       "\n",
       "      property_type17  property_type18  property_type19  property_type20  \\\n",
       "0                   0                0                0                0   \n",
       "1                   0                0                0                0   \n",
       "2                   0                0                0                0   \n",
       "3                   0                0                0                0   \n",
       "4                   0                0                0                0   \n",
       "...               ...              ...              ...              ...   \n",
       "7239                0                0                0                0   \n",
       "7240                0                0                0                0   \n",
       "7241                0                0                0                0   \n",
       "7242                0                0                0                0   \n",
       "7243                0                0                0                0   \n",
       "\n",
       "      property_type21  property_type22  property_type23  \n",
       "0                   0                0                0  \n",
       "1                   0                0                0  \n",
       "2                   0                0                0  \n",
       "3                   0                0                0  \n",
       "4                   0                0                0  \n",
       "...               ...              ...              ...  \n",
       "7239                0                0                0  \n",
       "7240                0                0                0  \n",
       "7241                0                0                0  \n",
       "7242                0                0                0  \n",
       "7243                0                0                0  \n",
       "\n",
       "[7244 rows x 66 columns]"
      ]
     },
     "execution_count": 70,
     "metadata": {},
     "output_type": "execute_result"
    }
   ],
   "source": [
    "new_x_train"
   ]
  },
  {
   "cell_type": "code",
   "execution_count": 71,
   "metadata": {},
   "outputs": [
    {
     "name": "stdout",
     "output_type": "stream",
     "text": [
      "Akurasi KNN : 82.7485380116959 %\n"
     ]
    }
   ],
   "source": [
    "from sklearn.neighbors import KNeighborsClassifier\n",
    "\n",
    "\n",
    "neigh = KNeighborsClassifier(n_neighbors=5)\n",
    "neigh.fit(new_x_train, y_train)\n",
    "\n",
    "pred_KNN = neigh.predict(new_x_test)\n",
    "\n",
    "from sklearn.metrics import precision_score\n",
    "from sklearn.metrics import accuracy_score\n",
    "\n",
    "\n",
    "print('Akurasi KNN : {} %'.format(accuracy_score(y_test,pred_KNN)*100))"
   ]
  },
  {
   "cell_type": "markdown",
   "metadata": {},
   "source": [
    "Saya memilih akurasi sebagai metrics karena akurasi mengukur seberapa tepat prediksi yang kita buat dengan data asli."
   ]
  },
  {
   "cell_type": "markdown",
   "metadata": {},
   "source": [
    "Performa dari algoritma KNN dalam mengklasifikasi Review cukup baik dibanding algoritma lain, tetapi masih kalah akurasinya dengan algoritma SVM. Hal tersebut dapat terjadi karena performa KNN tidak terlalu efektif jika data memiliki dimensi yang tinggi."
   ]
  },
  {
   "cell_type": "code",
   "execution_count": 72,
   "metadata": {},
   "outputs": [
    {
     "name": "stdout",
     "output_type": "stream",
     "text": [
      "Akurasi SVM : 86.0233918128655 %\n"
     ]
    }
   ],
   "source": [
    "from sklearn.svm import SVC\n",
    "\n",
    "svm_clf = SVC(random_state=10)\n",
    "svm_clf.fit(new_x_train, y_train)\n",
    "pred_svm = svm_clf.predict(new_x_test)\n",
    "\n",
    "print('Akurasi SVM : {} %'.format(accuracy_score(y_test,pred_svm)*100))"
   ]
  },
  {
   "cell_type": "markdown",
   "metadata": {},
   "source": [
    "Saya memilih akurasi sebagai metrics karena akurasi mengukur seberapa tepat prediksi yang kita buat dengan data asli."
   ]
  },
  {
   "cell_type": "markdown",
   "metadata": {},
   "source": [
    "Performa dari algoritma SVM dalam mengklasifikasi Review merupakan yang paling baik diantara algoritma lain, hal ini terjadi karena SVM memunyai performa yang lebih baik dibanding algoritma lain jika dilakukan pada data yang memiliki dimensi yang tinggi. Data yang kita pakai kali ini mampunyai dimensi yang relatif tinggi (66 kolom) sehingga SVm dapat mencapai akurasi terbaik dibanding algoritma lain."
   ]
  },
  {
   "cell_type": "code",
   "execution_count": 73,
   "metadata": {},
   "outputs": [
    {
     "name": "stdout",
     "output_type": "stream",
     "text": [
      "Akurasi Decision Tree: 80.29239766081872 %\n"
     ]
    }
   ],
   "source": [
    "from sklearn.tree import DecisionTreeClassifier\n",
    "\n",
    "decision_tree = DecisionTreeClassifier(random_state=10)\n",
    "decision_tree.fit(new_x_train, y_train)\n",
    "\n",
    "pred_desicion_tree = decision_tree.predict(new_x_test)\n",
    "\n",
    "print('Akurasi Decision Tree: {} %'.format(accuracy_score(y_test,pred_desicion_tree )*100))"
   ]
  },
  {
   "cell_type": "markdown",
   "metadata": {},
   "source": [
    "Saya memilih akurasi sebagai metrics karena akurasi mengukur seberapa tepat prediksi yang kita buat dengan data asli."
   ]
  },
  {
   "cell_type": "markdown",
   "metadata": {},
   "source": [
    "Performa dari algoritma Decision tree dalam mengklasifikasi Review merupakan yang plaing buruk diantara algoritma lain. Hal ini terjadi karena dimensi data yang besar dan juga kolom kategori yang di one hot encoding. Kolom kategori harus di one-hot encoding karena kolom kategori tidak menentukan tingkatan dari kategori tersebut jadi kita tidak bisa langsung hanya menggunakan label encoding untuk melakukan klasifikasi."
   ]
  },
  {
   "cell_type": "markdown",
   "metadata": {},
   "source": [
    "# Feature Extraction"
   ]
  },
  {
   "cell_type": "markdown",
   "metadata": {},
   "source": [
    "Karena fitur kategori tadi kita lakukan one hot encoding sehingga menyebabkan banyak kolom pada data train, maka saya akan mereduksi dimensi nya dengan PCA hingga menjadi hanya 2 fitur saja. Saya mereduksi dimensi dengan PCA hingga menjadi hanya 2 fitur supaya dapat divisualisasi menjadi plot 2d."
   ]
  },
  {
   "cell_type": "code",
   "execution_count": 74,
   "metadata": {},
   "outputs": [],
   "source": [
    "from sklearn.decomposition import PCA\n",
    "\n",
    "pca = PCA(n_components = 2).fit(new_x_train)"
   ]
  },
  {
   "cell_type": "code",
   "execution_count": 75,
   "metadata": {},
   "outputs": [],
   "source": [
    "after_pca = pca.transform(new_x_train)"
   ]
  },
  {
   "cell_type": "code",
   "execution_count": 76,
   "metadata": {},
   "outputs": [],
   "source": [
    "after_pca= pd.DataFrame(after_pca,columns=['pca1','pca2'])"
   ]
  },
  {
   "cell_type": "markdown",
   "metadata": {},
   "source": [
    "# Gaussian Mixture Model"
   ]
  },
  {
   "cell_type": "code",
   "execution_count": 77,
   "metadata": {},
   "outputs": [
    {
     "data": {
      "text/plain": [
       "GaussianMixture(n_components=2)"
      ]
     },
     "execution_count": 77,
     "metadata": {},
     "output_type": "execute_result"
    }
   ],
   "source": [
    "from sklearn.mixture import GaussianMixture\n",
    "\n",
    "gmm = GaussianMixture(n_components = 2)\n",
    "gmm.fit(after_pca)"
   ]
  },
  {
   "cell_type": "code",
   "execution_count": 78,
   "metadata": {},
   "outputs": [],
   "source": [
    "y_gmm = gmm.predict(after_pca)"
   ]
  },
  {
   "cell_type": "code",
   "execution_count": 79,
   "metadata": {
    "scrolled": true
   },
   "outputs": [
    {
     "data": {
      "image/png": "[encoded data removed]",
      "text/plain": [
       "<Figure size 432x288 with 1 Axes>"
      ]
     },
     "metadata": {
      "needs_background": "light"
     },
     "output_type": "display_data"
    }
   ],
   "source": [
    "X, Y = np.meshgrid(np.linspace(after_pca['pca1'].min()-1,after_pca['pca1'].max()+1), \n",
    "                   np.linspace(after_pca['pca2'].min()-1,after_pca['pca2'].max()+1))\n",
    "\n",
    "XX = np.array([X.ravel(), Y.ravel()]).T\n",
    "Z = gmm.score_samples(XX)\n",
    "Z = Z.reshape((50,50))\n",
    "plt.contour(X, Y, Z)\n",
    "sns.scatterplot(x=\"pca1\", y=\"pca2\", hue=y_gmm, data=after_pca)\n",
    "plt.show()"
   ]
  },
  {
   "cell_type": "markdown",
   "metadata": {},
   "source": [
    "## Cara Learning Gaussian Mixture Model menggunakan Expectation maximization (EM) :"
   ]
  },
  {
   "cell_type": "markdown",
   "metadata": {},
   "source": [
    "1. E-step\n",
    "\n",
    "   Hitung probabilitas posterior bahwa setiap gaussian menghasilkan titik data."
   ]
  },
  {
   "cell_type": "markdown",
   "metadata": {},
   "source": [
    "2. M-step\n",
    "\n",
    "   Asumsi bahwa titik-titik data di generate dengan cara di atas, ubah parameter masing-masing gaussian untuk memaksimalkan  probabilitas bahwa gaussian-gaussian tersebut akan mengenerate data yang menjadi tanggung jawabnya (memiliki distribusi seperti dirinya)."
   ]
  },
  {
   "cell_type": "markdown",
   "metadata": {},
   "source": [
    "# K-Means clustering"
   ]
  },
  {
   "cell_type": "code",
   "execution_count": 80,
   "metadata": {},
   "outputs": [
    {
     "data": {
      "text/plain": [
       "KMeans(n_clusters=2)"
      ]
     },
     "execution_count": 80,
     "metadata": {},
     "output_type": "execute_result"
    }
   ],
   "source": [
    "from sklearn.cluster import KMeans\n",
    "\n",
    "kmeans = KMeans(n_clusters = 2)\n",
    "kmeans.fit(after_pca)"
   ]
  },
  {
   "cell_type": "code",
   "execution_count": 81,
   "metadata": {},
   "outputs": [],
   "source": [
    "y_kmeans = kmeans.predict(after_pca)"
   ]
  },
  {
   "cell_type": "code",
   "execution_count": 82,
   "metadata": {},
   "outputs": [
    {
     "data": {
      "image/png": "[encoded data removed]",
      "text/plain": [
       "<Figure size 432x288 with 1 Axes>"
      ]
     },
     "metadata": {
      "needs_background": "light"
     },
     "output_type": "display_data"
    }
   ],
   "source": [
    "sns.scatterplot(x=\"pca1\", y=\"pca2\", hue=y_kmeans, data=after_pca)\n",
    "plt.title('K-means Clustering with 2 dimensions')\n",
    "plt.show()"
   ]
  },
  {
   "cell_type": "markdown",
   "metadata": {},
   "source": [
    "### Cara kerja K-Means Clustering :"
   ]
  },
  {
   "cell_type": "markdown",
   "metadata": {},
   "source": [
    "1. Pilih k titik acak sebagai pusat cluster\n",
    "2. Assign data ke pusat cluster terdekat\n",
    "3. Reset pusat cluster menjadi rata-rata titik di dalam clusternya masing-masing"
   ]
  },
  {
   "cell_type": "markdown",
   "metadata": {},
   "source": [
    "Iterasi tahap 2 dan 3 sampai konvergen"
   ]
  }
 ],
 "metadata": {
  "kernelspec": {
   "display_name": "Python 3",
   "language": "python",
   "name": "python3"
  },
  "language_info": {
   "codemirror_mode": {
    "name": "ipython",
    "version": 3
   },
   "file_extension": ".py",
   "mimetype": "text/x-python",
   "name": "python",
   "nbconvert_exporter": "python",
   "pygments_lexer": "ipython3",
   "version": "3.7.9"
  }
 },
 "nbformat": 4,
 "nbformat_minor": 4
}
